{
 "cells": [
  {
   "cell_type": "markdown",
   "id": "28f42f9c",
   "metadata": {},
   "source": [
    "## Notebook to combine database .csv files into one.\n",
    "\n",
    "First, import packages and read .csv files. We have:\n",
    "<ul>\n",
    "<li>dim_claims.csv - contains drug info, payer BIN, claim approved flag and (if applicable) reject code.</li>\n",
    "<li>bridge.csv - contains keys linking to claims, date, and (if applicable) pa.</li>\n",
    "<li>dim_date.csv - contains various date info for each claim. </li>\n",
    "<li>dim_pa.csv - contains various flags (if patient has tried the generic alternative, if patient has correct diagnosis, if patient has contraindication), and flag for if pa was successful.\n",
    "</li>\n",
    "</ul> "
   ]
  },
  {
   "cell_type": "code",
   "execution_count": 1,
   "id": "1f345f43",
   "metadata": {},
   "outputs": [],
   "source": [
    "import pandas as pd"
   ]
  },
  {
   "cell_type": "code",
   "execution_count": 7,
   "id": "51104405",
   "metadata": {},
   "outputs": [],
   "source": [
    "dim_claims=pd.read_csv('Data/dim_claims.csv')\n",
    "bridge=pd.read_csv('Data/bridge.csv')\n",
    "dim_date=pd.read_csv('Data/dim_date.csv')\n",
    "dim_pa=pd.read_csv('Data/dim_pa.csv')"
   ]
  },
  {
   "cell_type": "code",
   "execution_count": 12,
   "id": "f3ec8b78",
   "metadata": {},
   "outputs": [
    {
     "data": {
      "text/html": [
       "<div>\n",
       "<style scoped>\n",
       "    .dataframe tbody tr th:only-of-type {\n",
       "        vertical-align: middle;\n",
       "    }\n",
       "\n",
       "    .dataframe tbody tr th {\n",
       "        vertical-align: top;\n",
       "    }\n",
       "\n",
       "    .dataframe thead th {\n",
       "        text-align: right;\n",
       "    }\n",
       "</style>\n",
       "<table border=\"1\" class=\"dataframe\">\n",
       "  <thead>\n",
       "    <tr style=\"text-align: right;\">\n",
       "      <th></th>\n",
       "      <th>dim_claim_id</th>\n",
       "      <th>dim_pa_id</th>\n",
       "      <th>dim_date_id</th>\n",
       "    </tr>\n",
       "  </thead>\n",
       "  <tbody>\n",
       "    <tr>\n",
       "      <th>0</th>\n",
       "      <td>1</td>\n",
       "      <td>1.0</td>\n",
       "      <td>1</td>\n",
       "    </tr>\n",
       "    <tr>\n",
       "      <th>1</th>\n",
       "      <td>2</td>\n",
       "      <td>NaN</td>\n",
       "      <td>1</td>\n",
       "    </tr>\n",
       "    <tr>\n",
       "      <th>2</th>\n",
       "      <td>3</td>\n",
       "      <td>2.0</td>\n",
       "      <td>1</td>\n",
       "    </tr>\n",
       "    <tr>\n",
       "      <th>3</th>\n",
       "      <td>4</td>\n",
       "      <td>NaN</td>\n",
       "      <td>1</td>\n",
       "    </tr>\n",
       "    <tr>\n",
       "      <th>4</th>\n",
       "      <td>5</td>\n",
       "      <td>NaN</td>\n",
       "      <td>1</td>\n",
       "    </tr>\n",
       "  </tbody>\n",
       "</table>\n",
       "</div>"
      ],
      "text/plain": [
       "   dim_claim_id  dim_pa_id  dim_date_id\n",
       "0             1        1.0            1\n",
       "1             2        NaN            1\n",
       "2             3        2.0            1\n",
       "3             4        NaN            1\n",
       "4             5        NaN            1"
      ]
     },
     "execution_count": 12,
     "metadata": {},
     "output_type": "execute_result"
    }
   ],
   "source": [
    "##check if successful (comment/uncomment)\n",
    "\n",
    "#dim_claims.head()\n",
    "bridge.head()\n",
    "#dim_date.head()\n",
    "#dim_pa.head()"
   ]
  },
  {
   "cell_type": "markdown",
   "id": "a7b27e38",
   "metadata": {},
   "source": [
    "Next, let's join bridge with dim_claims. Uses pandas merge, similar example used for explanation here: https://www.shanelynn.ie/merge-join-dataframes-python-pandas-index-1/"
   ]
  },
  {
   "cell_type": "code",
   "execution_count": 13,
   "id": "8d58d509",
   "metadata": {},
   "outputs": [],
   "source": [
    "CMM_df = pd.merge(bridge,dim_claims, on='dim_claim_id')"
   ]
  },
  {
   "cell_type": "code",
   "execution_count": 21,
   "id": "0dedfc25",
   "metadata": {},
   "outputs": [
    {
     "data": {
      "text/plain": [
       "True"
      ]
     },
     "execution_count": 21,
     "metadata": {},
     "output_type": "execute_result"
    }
   ],
   "source": [
    "##Check what it looks like now:\n",
    "CMM_df.head()\n",
    "\n",
    "#Make sure no rows got deleted in merge:\n",
    "len(CMM_df)==len(bridge)"
   ]
  },
  {
   "cell_type": "code",
   "execution_count": 22,
   "id": "6e9f480f",
   "metadata": {},
   "outputs": [],
   "source": [
    "#Merge date\n",
    "CMM_df=pd.merge(CMM_df.copy(),dim_date,on='dim_date_id')"
   ]
  },
  {
   "cell_type": "code",
   "execution_count": 25,
   "id": "b818e4b9",
   "metadata": {},
   "outputs": [
    {
     "data": {
      "text/plain": [
       "True"
      ]
     },
     "execution_count": 25,
     "metadata": {},
     "output_type": "execute_result"
    }
   ],
   "source": [
    "##Check what it looks like now:\n",
    "CMM_df.head()\n",
    "\n",
    "#Make sure no rows got deleted in merge:\n",
    "len(CMM_df)==len(bridge)"
   ]
  },
  {
   "cell_type": "markdown",
   "id": "d02775f5",
   "metadata": {},
   "source": [
    "Next, join with the pa dataframe. Be careful, as not every claim has an associated pa form. Will leave NaN when there is no PA form."
   ]
  },
  {
   "cell_type": "code",
   "execution_count": 28,
   "id": "49f20bc0",
   "metadata": {},
   "outputs": [],
   "source": [
    "CMM_df = pd.merge(CMM_df.copy(),dim_pa, on='dim_pa_id',how='left')"
   ]
  },
  {
   "cell_type": "code",
   "execution_count": 30,
   "id": "756b5909",
   "metadata": {},
   "outputs": [
    {
     "data": {
      "text/plain": [
       "True"
      ]
     },
     "execution_count": 30,
     "metadata": {},
     "output_type": "execute_result"
    }
   ],
   "source": [
    "#Check what it looks like now:\n",
    "CMM_df.head(30)\n",
    "\n",
    "#Make sure no rows got deleted in merge:\n",
    "len(CMM_df)==len(bridge)"
   ]
  },
  {
   "cell_type": "markdown",
   "id": "cf02076c",
   "metadata": {},
   "source": [
    "Last, make a new CSV to use in other notebooks (instead of running these merges every time):"
   ]
  },
  {
   "cell_type": "code",
   "execution_count": 31,
   "id": "f30df370",
   "metadata": {},
   "outputs": [],
   "source": [
    "#Make CoverMyMeds (CMM) csv (one csv with all the info)\n",
    "CMM_df.to_csv(path_or_buf='Data/CMM.csv',header=True,index=False)"
   ]
  }
 ],
 "metadata": {
  "kernelspec": {
   "display_name": "Python 3",
   "language": "python",
   "name": "python3"
  },
  "language_info": {
   "codemirror_mode": {
    "name": "ipython",
    "version": 3
   },
   "file_extension": ".py",
   "mimetype": "text/x-python",
   "name": "python",
   "nbconvert_exporter": "python",
   "pygments_lexer": "ipython3",
   "version": "3.8.8"
  }
 },
 "nbformat": 4,
 "nbformat_minor": 5
}
