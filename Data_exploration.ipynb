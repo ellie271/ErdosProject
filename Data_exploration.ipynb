{
 "cells": [
  {
   "cell_type": "markdown",
   "metadata": {},
   "source": [
    "## Exploratory Data Analysis and Visualization\n",
    "Here, we do some preliminary data exploration. First, we import packages and do a train/test split on the records with a PA form. We stratify on the results of the PA form (approved/denied)."
   ]
  },
  {
   "cell_type": "code",
   "execution_count": 1,
   "metadata": {},
   "outputs": [],
   "source": [
    "import pandas as pd\n",
    "import numpy as np\n",
    "import seaborn as sns\n",
    "import matplotlib.pyplot as plt\n",
    "import matplotlib.axes\n",
    "from sklearn.model_selection import train_test_split"
   ]
  },
  {
   "cell_type": "code",
   "execution_count": null,
   "metadata": {},
   "outputs": [],
   "source": [
    "cmm = pd.read_csv(\"Data/CMM.csv\")"
   ]
  },
  {
   "cell_type": "code",
   "execution_count": null,
   "metadata": {},
   "outputs": [],
   "source": [
    "cmm_pa = cmm[cmm['dim_pa_id'].notna()]\n",
    "cmm_pa_train, cmm_pa_test = train_test_split(cmm_pa, test_size = 0.2, \n",
    "                                             random_state = 10475, shuffle = True,\n",
    "                                            stratify = cmm_pa.pa_approved)"
   ]
  },
  {
   "cell_type": "markdown",
   "metadata": {},
   "source": [
    "We should only look at cmm_pa_train from this point."
   ]
  },
  {
   "cell_type": "markdown",
   "metadata": {},
   "source": [
    "We also compute how is_approved correlates with some other discrete variables. "
   ]
  },
  {
   "cell_type": "markdown",
   "metadata": {},
   "source": [
    "## pa_approved vs correct_diagnosis\n",
    "Let's compute the correlation of pa_approved with correct diagnosis. "
   ]
  },
  {
   "cell_type": "code",
   "execution_count": null,
   "metadata": {},
   "outputs": [],
   "source": [
    "#An auxilliary function to find the percentage of df[column1 == val1] given that df[column2 == val2 ]. \n",
    "def percentage_given(df, column1, val1, column2, val2):\n",
    "    intersection = np.sum(np.logical_and(df[column1] == val1,df[column2] == val2));\n",
    "    total = np.sum(df[column2] == val2);\n",
    "    return np.round(100*intersection/total,3);"
   ]
  },
  {
   "cell_type": "code",
   "execution_count": null,
   "metadata": {},
   "outputs": [],
   "source": [
    "plt.figure()\n",
    "sns.histplot(cmm_pa_train, x='correct_diagnosis', hue = 'pa_approved',multiple = 'stack',discrete=True)\n",
    "plt.xticks(ticks=[0,1], labels=[\"no\",\"yes\"],fontsize=18)\n",
    "plt.title(\"Correct Diagnosis and Approval\",fontsize = 30)\n",
    "plt.xlabel(\"Correct Diagnosis\",fontsize=25)\n",
    "plt.ylabel(\"Count\",fontsize = 25)\n",
    "plt.legend([\"Yes\", \"No\"],title=\"PA Approved\",fontsize=13,title_fontsize=15)\n",
    "\n",
    "\n",
    "plt.show()"
   ]
  },
  {
   "cell_type": "code",
   "execution_count": null,
   "metadata": {},
   "outputs": [],
   "source": [
    "print(\"The percentage of people whose PA is approved given that their diagnosis is correct is: \"\n",
    "      , percentage_given(cmm_pa_train,'pa_approved',1,'correct_diagnosis',1))\n",
    "\n",
    "print(\"The percentage of people whose PA is approved given that their diagnosis is incorrect is: \"\n",
    "      , percentage_given(cmm_pa_train,'pa_approved',1,'correct_diagnosis',0))"
   ]
  },
  {
   "cell_type": "markdown",
   "metadata": {},
   "source": [
    "## pa_approved vs contraindication\n",
    "Now we compute the correlation between pa_approved and contraindication"
   ]
  },
  {
   "cell_type": "code",
   "execution_count": null,
   "metadata": {},
   "outputs": [],
   "source": [
    "plt.figure()\n",
    "sns.histplot(cmm_pa_train, x='contraindication', hue = 'pa_approved',multiple = 'stack',discrete=True)\n",
    "plt.xticks(ticks=[0,1], labels=[\"no\",\"yes\"],fontsize=18)\n",
    "plt.title(\"Contraindication and Approval\",fontsize = 30)\n",
    "plt.xlabel(\"Contraindication\",fontsize=25)\n",
    "plt.ylabel(\"Count\",fontsize = 25)\n",
    "plt.legend([\"Yes\", \"No\"],title=\"PA Approved\",fontsize=13,title_fontsize=15)\n",
    "\n",
    "plt.show()\n"
   ]
  },
  {
   "cell_type": "code",
   "execution_count": null,
   "metadata": {},
   "outputs": [],
   "source": [
    "print(\"The percentage of people whose PA is approved given contraindication: \"\n",
    "      , percentage_given(cmm_pa_train,'pa_approved',1,'contraindication',1))\n",
    "\n",
    "print(\"The percentage of people whose PA is approved given no contraindication: \"\n",
    "      , percentage_given(cmm_pa_train,'pa_approved',1,'contraindication',0))"
   ]
  },
  {
   "cell_type": "markdown",
   "metadata": {},
   "source": [
    "## pa_approved vs tried_and_failed\n"
   ]
  },
  {
   "cell_type": "code",
   "execution_count": null,
   "metadata": {},
   "outputs": [],
   "source": [
    "plt.figure(figsize=(10,8))\n",
    "sns.histplot(cmm_pa_train, x='tried_and_failed', hue = 'pa_approved',multiple = 'stack',discrete=True)\n",
    "plt.xticks(ticks=[0,1], labels=[\"no\",\"yes\"],fontsize=18)\n",
    "plt.title(\"Tried and Failed vs Approval\",fontsize = 30)\n",
    "plt.xlabel(\"Tried and Failed\",fontsize=25)\n",
    "plt.xlim([-1,2.5])\n",
    "plt.ylabel(\"Count\",fontsize = 25)\n",
    "plt.legend([\"Yes\", \"No\"],title=\"PA Approved\",fontsize=13,title_fontsize=15)\n",
    "\n",
    "\n",
    "\n",
    "plt.show()"
   ]
  },
  {
   "cell_type": "code",
   "execution_count": null,
   "metadata": {},
   "outputs": [],
   "source": [
    "print(\"The percentage of people whose PA is approved given that the patient has tried and failed generic alternatives: \"\n",
    "      , percentage_given(cmm_pa_train,'pa_approved',1,'tried_and_failed',1))\n",
    "\n",
    "print(\"The percentage of people whose PA is approved given that the patiend has not tried and failed the generic alternative: \"\n",
    "      , percentage_given(cmm_pa_train,'pa_approved',1,'tried_and_failed',0))"
   ]
  },
  {
   "cell_type": "markdown",
   "metadata": {},
   "source": [
    "## pa_approved vs drug "
   ]
  },
  {
   "cell_type": "code",
   "execution_count": null,
   "metadata": {},
   "outputs": [],
   "source": [
    "plt.figure()\n",
    "sns.histplot(cmm_pa_train, x='drug', hue = 'pa_approved',multiple = 'stack')\n",
    "plt.xticks(ticks=[0,1,2], labels=[\"A\",\"B\",\"C\"],fontsize=18)\n",
    "plt.title(\"Drug Type and Approval\",fontsize = 30)\n",
    "plt.xlabel(\"Drug\",fontsize=25)\n",
    "plt.ylabel(\"Count\",fontsize = 25)\n",
    "plt.legend([\"Yes\", \"No\"],title=\"PA Approved\",fontsize=13,title_fontsize=15)\n",
    "\n",
    "\n",
    "plt.show()"
   ]
  },
  {
   "cell_type": "code",
   "execution_count": null,
   "metadata": {},
   "outputs": [],
   "source": [
    "drugs = ['A', 'B' , 'C']\n",
    "for drug in drugs:\n",
    "    print(\"The percentage of people whose PA is approved given that they use drug \", drug, \"is : \"\n",
    "      , percentage_given(cmm_pa_train,'pa_approved',1,'drug',drug))"
   ]
  },
  {
   "cell_type": "markdown",
   "metadata": {},
   "source": [
    "## pa_approved vs bin"
   ]
  },
  {
   "cell_type": "code",
   "execution_count": null,
   "metadata": {},
   "outputs": [],
   "source": [
    "#Takes a long time to run based on payer BIN, because it was a numpy int64. We change type to string,\n",
    "#as there are only 4 payer BINs.\n",
    "\n",
    "cmm_pa_train.loc[:,'binS']=cmm_pa_train.loc[:,'bin'].astype(str).copy()"
   ]
  },
  {
   "cell_type": "code",
   "execution_count": null,
   "metadata": {},
   "outputs": [],
   "source": [
    "#Commented because it takes very long to run\n",
    "plt.figure()\n",
    "sns.histplot(cmm_pa_train, x='binS', hue = 'pa_approved',multiple = 'stack')\n",
    "plt.xticks(fontsize=15)\n",
    "plt.title(\"Payer BIN and Approval\",fontsize = 30)\n",
    "plt.xlabel(\"Payer BIN\",fontsize=25)\n",
    "plt.ylabel(\"Count\",fontsize = 25)\n",
    "plt.legend([\"Yes\", \"No\"],title=\"PA Approved\",fontsize=13,title_fontsize=15)\n",
    "\n",
    "\n",
    "\n",
    "plt.show()"
   ]
  },
  {
   "cell_type": "code",
   "execution_count": null,
   "metadata": {},
   "outputs": [],
   "source": [
    "bins = cmm_pa_train.bin.unique()\n",
    "for bin in bins:\n",
    "    print(\"The percentage of people whose PA is approved given that they use the payer with BIN \", bin, \"is : \"\n",
    "      , percentage_given(cmm_pa_train,'pa_approved',1,'bin',bin))"
   ]
  }
 ],
 "metadata": {
  "kernelspec": {
   "display_name": "Python 3 (ipykernel)",
   "language": "python",
   "name": "python3"
  },
  "language_info": {
   "codemirror_mode": {
    "name": "ipython",
    "version": 3
   },
   "file_extension": ".py",
   "mimetype": "text/x-python",
   "name": "python",
   "nbconvert_exporter": "python",
   "pygments_lexer": "ipython3",
   "version": "3.9.7"
  }
 },
 "nbformat": 4,
 "nbformat_minor": 4
}
