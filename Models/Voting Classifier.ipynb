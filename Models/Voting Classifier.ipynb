{
 "cells": [
  {
   "cell_type": "markdown",
   "id": "0b5f532f",
   "metadata": {},
   "source": [
    "# Voting Classifier\n",
    "\n",
    "In this notebook, we explore using a voting classifier to predict if PA forms will be approved. We will be using Drug, BIN, Reject Code, and flags for Tried & Failed, Contraindication, and Correct Diagnosis for prediction. First, we import the needed packages."
   ]
  },
  {
   "cell_type": "code",
   "execution_count": 1,
   "id": "dd3e3143",
   "metadata": {},
   "outputs": [],
   "source": [
    "##Import packages\n",
    "import pandas as pd\n",
    "import numpy as np\n",
    "\n",
    "## For plotting\n",
    "import matplotlib.pyplot as plt\n",
    "import seaborn as sns\n",
    "sns.set_style(\"darkgrid\")"
   ]
  },
  {
   "cell_type": "code",
   "execution_count": 2,
   "id": "fc4abe29",
   "metadata": {},
   "outputs": [],
   "source": [
    "## Import classifiers\n",
    "from sklearn.ensemble import ExtraTreesClassifier,VotingClassifier,RandomForestClassifier\n",
    "from sklearn.linear_model import LogisticRegression\n",
    "from sklearn.naive_bayes import BernoulliNB\n",
    "from xgboost import XGBClassifier\n",
    "\n",
    "## Import splits and metrics\n",
    "from sklearn.model_selection import train_test_split\n",
    "from sklearn.metrics import roc_auc_score, accuracy_score"
   ]
  },
  {
   "cell_type": "markdown",
   "id": "6fb94bce",
   "metadata": {},
   "source": [
    "Now, we create our train test split, making sure to stratify on PA approval. We choose the test size to be 20% of our total data, and use the same random seed in all other method notebooks. We will use the test set after choosing our final model (and not in this notebook)."
   ]
  },
  {
   "cell_type": "code",
   "execution_count": 3,
   "id": "6b26f3fb",
   "metadata": {},
   "outputs": [],
   "source": [
    "#import cleaned CSV (no date information)\n",
    "cmm_pa_clf_read = pd.read_csv(\"../Data/cmm_pa_clf.csv\",index_col = 0)\n",
    "\n",
    "#drop pa_approved for the predictors, only use it for target.\n",
    "cmm_pa_clf_data = cmm_pa_clf_read.drop(columns = 'pa_approved').copy()\n",
    "cmm_pa_clf_target = cmm_pa_clf_read['pa_approved'].copy()\n",
    "X_train,X_test,y_train,y_test= train_test_split(cmm_pa_clf_data, cmm_pa_clf_target, test_size = 0.2, \n",
    "                                             random_state = 10475, shuffle = True,\n",
    "                                            stratify = cmm_pa_clf_target)"
   ]
  },
  {
   "cell_type": "markdown",
   "id": "c2bc0c25",
   "metadata": {},
   "source": [
    "## Baseline Model\n",
    "\n",
    "Our baseline model will be predicting all claims will have PA approved, as the majority of claims are approved."
   ]
  },
  {
   "cell_type": "code",
   "execution_count": 4,
   "id": "721a9724",
   "metadata": {},
   "outputs": [
    {
     "name": "stdout",
     "output_type": "stream",
     "text": [
      "73.445 percent of the training set has PA approved, so our baseline model will predict all PA forms are approved.\n"
     ]
    }
   ],
   "source": [
    "if y_train.value_counts(normalize=True)[1]>.5:\n",
    "    print(np.round(y_train.value_counts(normalize=True)[1]*100,3),\"percent of the training set has PA approved, so\",\n",
    "          \"our baseline model will predict all PA forms are approved.\")\n",
    "else:\n",
    "    print(np.round(y_train.value_counts(normalize=True)[1]*100,3),\"percent of the training set has PA approved, so\",\n",
    "          \"our baseline model will predict all PA forms are declined.\")"
   ]
  },
  {
   "cell_type": "markdown",
   "id": "7b027d29",
   "metadata": {},
   "source": [
    "## Voting Classifier vs. Individual Classifiers\n",
    "### Hard Voting\n",
    "We use a validation set to explore the accuracy rate and roc_auc between the voting classifier (hard voting) and the individual models.\n"
   ]
  },
  {
   "cell_type": "code",
   "execution_count": 5,
   "id": "c3b5de13",
   "metadata": {},
   "outputs": [
    {
     "name": "stdout",
     "output_type": "stream",
     "text": [
      "Starting xgboost.\n",
      "Starting Voting\n"
     ]
    }
   ],
   "source": [
    "#create validation set\n",
    "X_train_train,X_holdout,y_train_train,y_holdout= train_test_split(X_train, y_train, test_size = 0.2, \n",
    "                                             random_state = 10475, shuffle = True,\n",
    "                                            stratify = y_train)\n",
    "\n",
    "models=['Baseline','Logistic Regression','Extra Trees','Bernoulli NB','XGBoost','Voting']\n",
    "\n",
    "#matrices to hold accuracy and ROC-AUC scores for validation set and train_train subset\n",
    "cv_accs = np.zeros((len(models)))\n",
    "cv_accs_train = np.zeros((len(models)))\n",
    "cv_aucs = np.zeros((len(models)))\n",
    "cv_aucs_train = np.zeros((len(models)))\n",
    "\n",
    "\n",
    "    \n",
    "#baseline performance on the train and validation set\n",
    "cv_accs_train[0] = accuracy_score(y_train_train, np.ones(len(y_train_train)))\n",
    "cv_aucs_train[0] = roc_auc_score(y_train_train, np.ones(len(y_train_train)))\n",
    "cv_accs[0] = accuracy_score(y_holdout, np.ones(len(y_holdout)))\n",
    "cv_aucs[0] = roc_auc_score(y_holdout, np.ones(len(y_holdout)))    \n",
    "    \n",
    "#logistic regression\n",
    "logreg=LogisticRegression(C=.1)\n",
    "logreg.fit(X_train_train,y_train_train)\n",
    "                   \n",
    "cv_accs_train[1] = accuracy_score(y_train_train, logreg.predict(X_train_train))\n",
    "cv_aucs_train[1] = roc_auc_score(y_train_train, logreg.predict_proba(X_train_train)[:,1])\n",
    "cv_accs[1] = accuracy_score(y_holdout, logreg.predict(X_holdout))\n",
    "cv_aucs[1] = roc_auc_score(y_holdout, logreg.predict_proba(X_holdout)[:,1])\n",
    "    \n",
    "#extra trees\n",
    "extrat=ExtraTreesClassifier(n_estimators=25,max_depth=6,random_state=10475)\n",
    "extrat.fit(X_train_train,y_train_train)\n",
    "\n",
    "cv_accs_train[2] = accuracy_score(y_train_train, extrat.predict(X_train_train))\n",
    "cv_aucs_train[2] = roc_auc_score(y_train_train, extrat.predict_proba(X_train_train)[:,1])\n",
    "cv_accs[2] = accuracy_score(y_holdout, extrat.predict(X_holdout))\n",
    "cv_aucs[2] = roc_auc_score(y_holdout, extrat.predict_proba(X_holdout)[:,1])    \n",
    "    \n",
    "#bernoulliNB\n",
    "bnb=BernoulliNB(alpha = 0.3, fit_prior = True)\n",
    "bnb.fit(X_train_train,y_train_train)\n",
    "\n",
    "cv_accs_train[3] = accuracy_score(y_train_train, bnb.predict(X_train_train))\n",
    "cv_aucs_train[3] = roc_auc_score(y_train_train, bnb.predict_proba(X_train_train)[:,1])\n",
    "cv_accs[3] = accuracy_score(y_holdout, bnb.predict(X_holdout))\n",
    "cv_aucs[3] = roc_auc_score(y_holdout, bnb.predict_proba(X_holdout)[:,1])      \n",
    " \n",
    "                   \n",
    "#xgboost\n",
    "print(\"Starting xgboost.\")\n",
    "xgbc= XGBClassifier(booster = 'gbtree',objective = 'binary:logistic',max_depth = 3,subsample = 1,\n",
    "                      tree_method = 'approx', n_estimators= 90,\n",
    "                      eta = 1, use_label_encoder=False,eval_metric = 'logloss',verbosity = 0)\n",
    "xgbc.fit(X_train_train,y_train_train)\n",
    "                   \n",
    "cv_accs_train[4] = accuracy_score(y_train_train, xgbc.predict(X_train_train))\n",
    "cv_aucs_train[4] = roc_auc_score(y_train_train, xgbc.predict_proba(X_train_train)[:,1])\n",
    "cv_accs[4] = accuracy_score(y_holdout, xgbc.predict(X_holdout))\n",
    "cv_aucs[4] = roc_auc_score(y_holdout, xgbc.predict_proba(X_holdout)[:,1])\n",
    "    \n",
    "\n",
    "#voting using above models\n",
    "print(\"Starting Voting\")\n",
    "voting = VotingClassifier([('logreg', LogisticRegression(C=.1)),\n",
    "                          ('extrat', ExtraTreesClassifier(n_estimators=25,max_depth=6,random_state=10475)),\n",
    "                          ('bnb', BernoulliNB(alpha = 0.3, fit_prior = True)),\n",
    "                          ('xgbc', XGBClassifier(booster = 'gbtree',objective = 'binary:logistic',\n",
    "                                                 max_depth = 3,subsample = 1,tree_method = 'approx',\n",
    "                                                 n_estimators= 90,eta = 1, use_label_encoder=False,\n",
    "                                                 eval_metric = 'logloss',verbosity = 0))],\n",
    "                          voting='soft')\n",
    "voting.fit(X_train_train,y_train_train)\n",
    "    \n",
    "cv_accs_train[5] = accuracy_score(y_train_train, voting.predict(X_train_train))\n",
    "cv_aucs_train[5] = roc_auc_score(y_train_train,voting.predict_proba(X_train_train)[:,1])\n",
    "\n",
    "cv_accs[5] = accuracy_score(y_holdout, voting.predict(X_holdout))\n",
    "cv_aucs[5] = roc_auc_score(y_holdout, voting.predict_proba(X_holdout)[:,1])"
   ]
  },
  {
   "cell_type": "code",
   "execution_count": 6,
   "id": "2f7fc6a3",
   "metadata": {},
   "outputs": [
    {
     "name": "stdout",
     "output_type": "stream",
     "text": [
      "The accuracy scores:\n",
      "For training subsets: [0.73445229 0.8138378  0.81396427 0.80301455 0.81401767 0.81396427]\n",
      "For the validation subsets: [0.73445229 0.81539482 0.81530488 0.80348952 0.81522619 0.81530488]\n",
      "The ROC-AUC scores:\n",
      "For training subsets: [0.5        0.87762182 0.87732833 0.86961119 0.87793417 0.87739804]\n",
      "For the validation subsets: [0.5        0.87909757 0.87853148 0.87080284 0.87926957 0.8787649 ]\n"
     ]
    }
   ],
   "source": [
    "print(\"The accuracy scores:\")\n",
    "print(\"For training subsets:\",cv_accs_train)\n",
    "print(\"For the validation subsets:\",cv_accs)\n",
    "print(\"The ROC-AUC scores:\")\n",
    "print(\"For training subsets:\",cv_aucs_train)\n",
    "print(\"For the validation subsets:\",cv_aucs)"
   ]
  },
  {
   "cell_type": "code",
   "execution_count": 7,
   "id": "d63a2cc5",
   "metadata": {},
   "outputs": [
    {
     "name": "stdout",
     "output_type": "stream",
     "text": [
      "The model with the best accuracy was: Logistic Regression\n",
      "The model with the best ROC AUC score was: XGBoost\n"
     ]
    }
   ],
   "source": [
    "print(\"The model with the best accuracy was:\",models[np.argmax(cv_accs)])\n",
    "print(\"The model with the best ROC AUC score was:\",models[np.argmax(cv_aucs)])"
   ]
  },
  {
   "cell_type": "markdown",
   "id": "bfe231ae",
   "metadata": {},
   "source": [
    "We plot the accuracy and ROC-AUC for the train train and validation sets for each model. As the baseline performs much worse, we leave it out of this visualization, to better see the difference between the (non-baseline) models."
   ]
  },
  {
   "cell_type": "code",
   "execution_count": 8,
   "id": "624d99ad",
   "metadata": {},
   "outputs": [
    {
     "data": {
      "image/png": "[encoded data removed]",
      "text/plain": [
       "<Figure size 864x576 with 1 Axes>"
      ]
     },
     "metadata": {},
     "output_type": "display_data"
    },
    {
     "data": {
      "image/png": "[encoded data removed]",
      "text/plain": [
       "<Figure size 864x576 with 1 Axes>"
      ]
     },
     "metadata": {},
     "output_type": "display_data"
    }
   ],
   "source": [
    "## this plots the average accuracy and accuracy for the CV subsets as a function of the maximum depth\n",
    "plt.figure(figsize=(12,8))\n",
    "\n",
    "#plot validation accuracy\n",
    "plt.plot(range(1,len(models)),cv_accs_train[1:],'o',color='gray',label=\"Train Train Set\",markersize=14) \n",
    "plt.plot(range(1,len(models)),cv_accs[1:],'o',color='red',label=\"Validation Set\",markersize=14) \n",
    "\n",
    "\n",
    "plt.legend(fontsize=16)\n",
    "\n",
    "plt.xlabel(\"Model\", fontsize=16)\n",
    "plt.ylabel(\"Accuracy\", fontsize=16)\n",
    "\n",
    "plt.xticks(range(1,len(models)),models[1:], fontsize=10)\n",
    "plt.yticks(fontsize=14)\n",
    "\n",
    "plt.show()\n",
    "\n",
    "##this plots the average ROC-AUC and ROC-AUC for the CV subsets\n",
    "plt.figure(figsize=(12,8))\n",
    "\n",
    "#plot CV ROC-AUC scores\n",
    "plt.plot(range(1,len(models)),cv_aucs_train[1:],'o',color='gray',label=\"Train Train Set\",markersize=14) \n",
    "plt.plot(range(1,len(models)),cv_aucs[1:],'o',color='blue',label=\"Validation Set\",markersize=14) \n",
    "    \n",
    "\n",
    "plt.legend(fontsize=16)\n",
    "\n",
    "plt.xlabel(\"Model\", fontsize=16)\n",
    "plt.ylabel(\"ROC AUC\", fontsize=16)\n",
    "\n",
    "plt.xticks(range(1,len(models)),models[1:], fontsize=10)\n",
    "plt.yticks(fontsize=14)\n",
    "\n",
    "plt.show()"
   ]
  },
  {
   "cell_type": "markdown",
   "id": "8165372a",
   "metadata": {},
   "source": [
    "While our Voting Classifier performs well, it does not beat the models it uses on accuracy nor ROC-AUC. Here we see the voting model's performance on the whole train set."
   ]
  },
  {
   "cell_type": "code",
   "execution_count": 9,
   "id": "691bf56c",
   "metadata": {},
   "outputs": [
    {
     "name": "stdout",
     "output_type": "stream",
     "text": [
      "For the voting model, the accuracy on the training set is 0.8142323949995504\n",
      "For the voting model, the ROC-AUC on the training set is 0.8776623319775134\n"
     ]
    }
   ],
   "source": [
    "voting = VotingClassifier([('logreg', LogisticRegression(C=.1)),\n",
    "                          ('extrat', ExtraTreesClassifier(n_estimators=25,max_depth=6,random_state=10475)),\n",
    "                          ('bnb', BernoulliNB(alpha = 0.3, fit_prior = True)),\n",
    "                          ('xgbc', XGBClassifier(booster = 'gbtree',objective = 'binary:logistic',\n",
    "                                                 max_depth = 3,subsample = 1,tree_method = 'approx',\n",
    "                                                 n_estimators= 90,eta = 1, use_label_encoder=False,\n",
    "                                                 eval_metric = 'logloss',verbosity = 0))],\n",
    "                          voting='soft')\n",
    "voting.fit(X_train,y_train)\n",
    "pred=voting.predict(X_train)\n",
    "predp=voting.predict_proba(X_train)[:,1]\n",
    "\n",
    "print(\"For the voting model, the accuracy on the training set is\",accuracy_score(y_train,pred))\n",
    "print(\"For the voting model, the ROC-AUC on the training set is\",roc_auc_score(y_train,predp))"
   ]
  },
  {
   "cell_type": "code",
   "execution_count": null,
   "id": "ac86b224",
   "metadata": {},
   "outputs": [],
   "source": []
  }
 ],
 "metadata": {
  "kernelspec": {
   "display_name": "Python 3",
   "language": "python",
   "name": "python3"
  },
  "language_info": {
   "codemirror_mode": {
    "name": "ipython",
    "version": 3
   },
   "file_extension": ".py",
   "mimetype": "text/x-python",
   "name": "python",
   "nbconvert_exporter": "python",
   "pygments_lexer": "ipython3",
   "version": "3.8.8"
  }
 },
 "nbformat": 4,
 "nbformat_minor": 5
}
