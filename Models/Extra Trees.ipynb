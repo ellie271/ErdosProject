{
 "cells": [
  {
   "cell_type": "markdown",
   "id": "cbbb34ed",
   "metadata": {},
   "source": [
    "# Extra Trees Classifier"
   ]
  },
  {
   "cell_type": "code",
   "execution_count": 1,
   "id": "7404fb55",
   "metadata": {},
   "outputs": [],
   "source": [
    "## For data handling\n",
    "import pandas as pd\n",
    "import numpy as np\n",
    "\n",
    "## For plotting\n",
    "import matplotlib.pyplot as plt\n",
    "import seaborn as sns\n",
    "\n",
    "## This sets the plot style\n",
    "## to have a grid on a white background\n",
    "sns.set_style(\"darkgrid\")"
   ]
  },
  {
   "cell_type": "code",
   "execution_count": 2,
   "id": "9e7d5538",
   "metadata": {},
   "outputs": [],
   "source": [
    "## Import packages\n",
    "## tree will be used to plot the decisiton tree\n",
    "from sklearn import tree\n",
    "\n",
    "## This is the actual out of the box algorithm\n",
    "from sklearn.ensemble import ExtraTreesClassifier\n",
    "from sklearn.model_selection import train_test_split, StratifiedKFold\n",
    "from sklearn.metrics import roc_auc_score,accuracy_score"
   ]
  },
  {
   "cell_type": "code",
   "execution_count": 3,
   "id": "3e2751aa",
   "metadata": {},
   "outputs": [],
   "source": [
    "#import cleaned CSV (no date information)\n",
    "cmm_pa_clf_read = pd.read_csv(\"../Data/cmm_pa_clf.csv\",index_col = 0)\n",
    "\n",
    "cmm_pa_clf_data = cmm_pa_clf_read.drop(columns = 'pa_approved').copy()\n",
    "cmm_pa_clf_target = cmm_pa_clf_read['pa_approved'].copy()\n",
    "X_train,X_test,y_train,y_test= train_test_split(cmm_pa_clf_data, cmm_pa_clf_target, test_size = 0.2, \n",
    "                                             random_state = 10475, shuffle = True,\n",
    "                                            stratify = cmm_pa_clf_target)\n",
    "\n",
    "#kfold cross validation for roc_auc, accuracy\n",
    "kfold = StratifiedKFold(5, shuffle=True, random_state=10475)"
   ]
  },
  {
   "cell_type": "markdown",
   "id": "b55bf1f7",
   "metadata": {},
   "source": [
    "## Depths analysis\n",
    "\n",
    "In what follows we find a good max_depth for extra trees classifier."
   ]
  },
  {
   "cell_type": "code",
   "execution_count": 31,
   "id": "87922e5b",
   "metadata": {
    "scrolled": true
   },
   "outputs": [],
   "source": [
    "depth = range(1,11)\n",
    "estimators = 100\n",
    "## Store accuracy and roc_auc scores\n",
    "cv_accs = np.zeros((5, len(depth)))\n",
    "cv_aucs = np.zeros((5, len(depth)))\n",
    "\n",
    "\n",
    "i = 0\n",
    "for train_index, test_index in  kfold.split(X_train, y_train):\n",
    "    X_train_train = X_train.iloc[train_index]\n",
    "    X_holdout = X_train.iloc[test_index]\n",
    "    y_train_train  =  y_train.iloc[train_index]\n",
    "    y_holdout = y_train.iloc[test_index]\n",
    "    \n",
    "    j = 0\n",
    "    for d in depth: ## Try different depths\n",
    "        extra_tree = ExtraTreesClassifier(n_estimators=estimators, max_depth=d, random_state=10475)\n",
    "        extra_tree.fit(X_train_train, y_train_train)\n",
    "        \n",
    "        cv_accs[i,j] = accuracy_score(y_holdout, extra_tree.predict(X_holdout))\n",
    "        cv_aucs[i,j] = roc_auc_score(y_holdout, extra_tree.predict_proba(X_holdout)[:,1])\n",
    "        \n",
    "        j = j + 1\n",
    "    i = i + 1"
   ]
  },
  {
   "cell_type": "code",
   "execution_count": 32,
   "id": "fabc9f38",
   "metadata": {},
   "outputs": [
    {
     "name": "stdout",
     "output_type": "stream",
     "text": [
      "[0.73445229 0.74120874 0.78826558 0.80158063 0.81253035 0.81407276\n",
      " 0.81409299 0.8138007  0.81372426 0.81372426]\n",
      "[0.85333088 0.86731827 0.87140782 0.87473888 0.87676869 0.87750485\n",
      " 0.8778593  0.87807041 0.87808947 0.87808968]\n"
     ]
    }
   ],
   "source": [
    "## This computes the mean of accuracy and roc_auc scores in the cross-validation.\n",
    "print(np.mean(cv_accs,axis=0))\n",
    "print(np.mean(cv_aucs,axis=0))"
   ]
  },
  {
   "cell_type": "code",
   "execution_count": 33,
   "id": "2b29adb5",
   "metadata": {},
   "outputs": [
    {
     "data": {
      "image/png": "[encoded data removed]",
      "text/plain": [
       "<Figure size 720x720 with 1 Axes>"
      ]
     },
     "metadata": {},
     "output_type": "display_data"
    }
   ],
   "source": [
    "## Average Accuracy and AUC score\n",
    "acc_mean = cv_accs.mean(0)\n",
    "auc_mean = cv_aucs.mean(0)\n",
    "\n",
    "#Plot the Accuracy/AUC vs depth\n",
    "plt.figure(figsize=(10,10));\n",
    "plt.plot(depth,acc_mean,'b')\n",
    "plt.plot(depth,auc_mean,'r')\n",
    "plt.legend([\"Accuracy\",\"AUC score\"])\n",
    "plt.xlabel(\"max_depth\",fontsize=18)\n",
    "plt.ylabel(\"Accuracy/AUC\",fontsize=18)\n",
    "plt.show()"
   ]
  },
  {
   "cell_type": "markdown",
   "id": "9165d82c",
   "metadata": {},
   "source": [
    "## Estimators analysis\n",
    "\n",
    "We analyze the behavior of extra trees classifier with different number of estimators."
   ]
  },
  {
   "cell_type": "code",
   "execution_count": 23,
   "id": "0bdb86d3",
   "metadata": {
    "scrolled": false
   },
   "outputs": [],
   "source": [
    "depth = 6\n",
    "## We will try different number of estimators ranging from 100 to 1000.\n",
    "estimators = range(1,11)\n",
    "## Store accuracy and roc_auc scores\n",
    "cv_accs = np.zeros((5, len(estimators)))\n",
    "cv_aucs = np.zeros((5, len(estimators)))\n",
    "\n",
    "\n",
    "i = 0\n",
    "for train_index, test_index in  kfold.split(X_train, y_train):\n",
    "    X_train_train = X_train.iloc[train_index]\n",
    "    X_holdout = X_train.iloc[test_index]\n",
    "    y_train_train  =  y_train.iloc[train_index]\n",
    "    y_holdout = y_train.iloc[test_index]\n",
    "    \n",
    "    j = 0 \n",
    "    for estimator in estimators: ## different number of estimators\n",
    "        extra_tree = ExtraTreesClassifier(n_estimators=estimator*100, max_depth=depth, random_state=10475)\n",
    "        extra_tree.fit(X_train_train, y_train_train)\n",
    "        \n",
    "        cv_accs[i,j] = accuracy_score(y_holdout, extra_tree.predict(X_holdout))\n",
    "        cv_aucs[i,j] = roc_auc_score(y_holdout, extra_tree.predict_proba(X_holdout)[:,1])\n",
    "        \n",
    "        j = j + 1\n",
    "    i = i + 1"
   ]
  },
  {
   "cell_type": "code",
   "execution_count": 24,
   "id": "d36a94a7",
   "metadata": {},
   "outputs": [
    {
     "name": "stdout",
     "output_type": "stream",
     "text": [
      "[0.81407276 0.81423239 0.81420766 0.81413571 0.8139491  0.81413571\n",
      " 0.81423239 0.81423239 0.81423239 0.81423239]\n",
      "[0.87750485 0.87760914 0.87766985 0.87773438 0.87774963 0.87776922\n",
      " 0.87778006 0.87778193 0.87779335 0.87780499]\n"
     ]
    }
   ],
   "source": [
    "## This computes the mean of accuracy and roc_auc scores in the cross-validation.\n",
    "print(np.mean(cv_accs,axis=0))\n",
    "print(np.mean(cv_aucs,axis=0))"
   ]
  },
  {
   "cell_type": "code",
   "execution_count": 29,
   "id": "0116e0b2",
   "metadata": {},
   "outputs": [
    {
     "data": {
      "image/png": "[encoded data removed]",
      "text/plain": [
       "<Figure size 720x720 with 1 Axes>"
      ]
     },
     "metadata": {},
     "output_type": "display_data"
    }
   ],
   "source": [
    "## Average Accuracy and AUC score\n",
    "acc_mean = cv_accs.mean(0)\n",
    "auc_mean = cv_aucs.mean(0)\n",
    "\n",
    "#Plot the Accuracy/AUC vs depth\n",
    "plt.figure(figsize=(10,10));\n",
    "plt.plot(estimators,acc_mean,'b')\n",
    "plt.plot(estimators,auc_mean,'r')\n",
    "plt.legend([\"Accuracy\",\"AUC score\"])\n",
    "plt.xlabel(\"number of estimators\",fontsize=18)\n",
    "plt.ylabel(\"Accuracy/AUC\",fontsize=18)\n",
    "plt.show()"
   ]
  },
  {
   "cell_type": "markdown",
   "id": "65782d9b",
   "metadata": {},
   "source": [
    "## Feature importances"
   ]
  },
  {
   "cell_type": "code",
   "execution_count": 36,
   "id": "707f6932",
   "metadata": {},
   "outputs": [],
   "source": [
    "## We fit the extra trees model with number of estimators being 100, and max_depth being 6.\n",
    "extra_tree=ExtraTreesClassifier(n_estimators=100,max_depth=6,random_state=10475)\n",
    "fig=extra_tree.fit(X_train, y_train)"
   ]
  },
  {
   "cell_type": "code",
   "execution_count": 37,
   "id": "5b4939d4",
   "metadata": {},
   "outputs": [
    {
     "data": {
      "text/html": [
       "<div>\n",
       "<style scoped>\n",
       "    .dataframe tbody tr th:only-of-type {\n",
       "        vertical-align: middle;\n",
       "    }\n",
       "\n",
       "    .dataframe tbody tr th {\n",
       "        vertical-align: top;\n",
       "    }\n",
       "\n",
       "    .dataframe thead th {\n",
       "        text-align: right;\n",
       "    }\n",
       "</style>\n",
       "<table border=\"1\" class=\"dataframe\">\n",
       "  <thead>\n",
       "    <tr style=\"text-align: right;\">\n",
       "      <th></th>\n",
       "      <th>features</th>\n",
       "      <th>feature_importances</th>\n",
       "    </tr>\n",
       "  </thead>\n",
       "  <tbody>\n",
       "    <tr>\n",
       "      <th>8</th>\n",
       "      <td>reject_code_75.0</td>\n",
       "      <td>0.442317</td>\n",
       "    </tr>\n",
       "    <tr>\n",
       "      <th>2</th>\n",
       "      <td>contraindication</td>\n",
       "      <td>0.150948</td>\n",
       "    </tr>\n",
       "    <tr>\n",
       "      <th>9</th>\n",
       "      <td>reject_code_76.0</td>\n",
       "      <td>0.096482</td>\n",
       "    </tr>\n",
       "    <tr>\n",
       "      <th>6</th>\n",
       "      <td>bin_417740</td>\n",
       "      <td>0.056121</td>\n",
       "    </tr>\n",
       "    <tr>\n",
       "      <th>4</th>\n",
       "      <td>drug_C</td>\n",
       "      <td>0.055642</td>\n",
       "    </tr>\n",
       "    <tr>\n",
       "      <th>1</th>\n",
       "      <td>tried_and_failed</td>\n",
       "      <td>0.052121</td>\n",
       "    </tr>\n",
       "    <tr>\n",
       "      <th>3</th>\n",
       "      <td>drug_B</td>\n",
       "      <td>0.051855</td>\n",
       "    </tr>\n",
       "    <tr>\n",
       "      <th>7</th>\n",
       "      <td>bin_999001</td>\n",
       "      <td>0.049371</td>\n",
       "    </tr>\n",
       "    <tr>\n",
       "      <th>5</th>\n",
       "      <td>bin_417614</td>\n",
       "      <td>0.042353</td>\n",
       "    </tr>\n",
       "    <tr>\n",
       "      <th>0</th>\n",
       "      <td>correct_diagnosis</td>\n",
       "      <td>0.002792</td>\n",
       "    </tr>\n",
       "  </tbody>\n",
       "</table>\n",
       "</div>"
      ],
      "text/plain": [
       "            features  feature_importances\n",
       "8   reject_code_75.0             0.442317\n",
       "2   contraindication             0.150948\n",
       "9   reject_code_76.0             0.096482\n",
       "6         bin_417740             0.056121\n",
       "4             drug_C             0.055642\n",
       "1   tried_and_failed             0.052121\n",
       "3             drug_B             0.051855\n",
       "7         bin_999001             0.049371\n",
       "5         bin_417614             0.042353\n",
       "0  correct_diagnosis             0.002792"
      ]
     },
     "execution_count": 37,
     "metadata": {},
     "output_type": "execute_result"
    }
   ],
   "source": [
    "## The dataframe storing the feature importances.\n",
    "score_df = pd.DataFrame({'features': X_train.columns,\n",
    "                         'feature_importances': extra_tree.feature_importances_})\n",
    "score_df.sort_values('feature_importances', ascending=False)"
   ]
  }
 ],
 "metadata": {
  "kernelspec": {
   "display_name": "Python 3",
   "language": "python",
   "name": "python3"
  },
  "language_info": {
   "codemirror_mode": {
    "name": "ipython",
    "version": 3
   },
   "file_extension": ".py",
   "mimetype": "text/x-python",
   "name": "python",
   "nbconvert_exporter": "python",
   "pygments_lexer": "ipython3",
   "version": "3.8.8"
  }
 },
 "nbformat": 4,
 "nbformat_minor": 5
}
