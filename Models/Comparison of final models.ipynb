{
 "cells": [
  {
   "cell_type": "markdown",
   "id": "0d1e48ed",
   "metadata": {},
   "source": [
    "# Final Comparison\n",
    "\n",
    "In this notebook, we will compare the tuned models for: Decision Tree, Extra Tree, Random Forest, Logistic Regression, BernouliNB, AdaBoost, XGBoost and a voting Classifier using extra tree, logistic regression, Berloulli Naive Bayes and XGBoost. \n",
    "\n",
    "We will use ROC-AUC score, weighted F-1 score and training time as out main metric to select our final model. We will perform a 5-fold cross validation, and the variance of the ROC-AUC score and weighted F-1 score will be taken into consideration. We will used the averaged fitting and testing time for the cross-validation sets to compare the time efficiency of different algorithms."
   ]
  },
  {
   "cell_type": "code",
   "execution_count": 1,
   "id": "0b30830c",
   "metadata": {},
   "outputs": [],
   "source": [
    "## Import packages\n",
    "import pandas as pd\n",
    "import numpy as np\n",
    "import matplotlib.pyplot as plt\n",
    "import seaborn as sns\n",
    "\n",
    "from sklearn.model_selection import train_test_split, StratifiedKFold\n",
    "from sklearn.model_selection import cross_validate\n",
    "\n",
    "## Import models\n",
    "## Tree models:\n",
    "from sklearn.tree import DecisionTreeClassifier\n",
    "from sklearn.ensemble import ExtraTreesClassifier\n",
    "from sklearn.ensemble import RandomForestClassifier\n",
    "##Logistic regression:\n",
    "from sklearn.linear_model import LogisticRegression\n",
    "## Naive Bayes:\n",
    "from sklearn.naive_bayes import BernoulliNB\n",
    "##Boosting models:\n",
    "from sklearn.ensemble import AdaBoostClassifier\n",
    "import xgboost as xgb\n",
    "#Voting method\n",
    "from sklearn.ensemble import VotingClassifier\n",
    "\n",
    "from sklearn.base import clone\n",
    "\n",
    "## Performace metrics for classification algorithms\n",
    "from sklearn import metrics\n",
    "from sklearn.metrics import confusion_matrix\n",
    "from sklearn.metrics import classification_report\n",
    "from sklearn.metrics import accuracy_score\n",
    "from sklearn.metrics import roc_auc_score\n",
    "\n",
    "##Timer\n",
    "import time"
   ]
  },
  {
   "cell_type": "code",
   "execution_count": 2,
   "id": "b1fd4787",
   "metadata": {},
   "outputs": [],
   "source": [
    "## Load data and perform trai-test split:\n",
    "## Import cleaned CSV (no date information)\n",
    "cmm_pa_clf_read = pd.read_csv(\"../Data/cmm_pa_clf.csv\",index_col = 0)\n",
    "\n",
    "## Separate the features from the output\n",
    "cmm_pa_clf_data = cmm_pa_clf_read.drop(columns = 'pa_approved').copy()\n",
    "cmm_pa_clf_target = cmm_pa_clf_read['pa_approved'].copy()\n",
    "\n",
    "## Train-test split\n",
    "X_train,X_test,y_train,y_test= train_test_split(cmm_pa_clf_data, cmm_pa_clf_target, test_size = 0.2, \n",
    "                                             random_state = 10475, shuffle = True,\n",
    "                                            stratify = cmm_pa_clf_target)\n",
    "## K-fold validation to analyze the performance of algorithms mentioned above \n",
    "kfold = StratifiedKFold(5, shuffle=True, random_state=10475)"
   ]
  },
  {
   "cell_type": "markdown",
   "id": "7d526250",
   "metadata": {},
   "source": [
    "## Baseline Model  \n",
    "Our baseline model will be predicting all claims will have PA approved, as the majority of claims are approved."
   ]
  },
  {
   "cell_type": "markdown",
   "id": "8e66fe94",
   "metadata": {},
   "source": [
    "## Model comparison "
   ]
  },
  {
   "cell_type": "code",
   "execution_count": 3,
   "id": "4cde8ddc",
   "metadata": {},
   "outputs": [],
   "source": [
    "d_tree = DecisionTreeClassifier(max_depth=8,random_state=10475)\n",
    "e_tree = ExtraTreesClassifier(n_estimators=50,max_depth=9,random_state=10475)\n",
    "forest = RandomForestClassifier(n_estimators=25,max_depth=6)\n",
    "logreg = LogisticRegression(C=.1)\n",
    "b_nb = BernoulliNB(alpha = 0.1, fit_prior = True)\n",
    "ada = AdaBoostClassifier(DecisionTreeClassifier(max_depth=1), n_estimators=7,algorithm='SAMME.R',\n",
    "                         learning_rate=1.0)\n",
    "xgb_clf= xgb.XGBClassifier(booster = 'gbtree',objective = 'binary:logistic',max_depth = 3,subsample = 1,\n",
    "                           tree_method = 'approx', n_estimators= 90,\n",
    "                           eta = 1, use_label_encoder=False, eval_metric = 'auc')\n",
    "logreg_clone = clone(logreg)\n",
    "e_tree_clone = clone(e_tree)\n",
    "b_nb_clone = clone(b_nb)\n",
    "xgb_clf_clone = clone(xgb_clf)\n",
    "voting = VotingClassifier([('logreg', logreg_clone),\n",
    "                          ('extrat', e_tree_clone),\n",
    "                          ('bnb', b_nb_clone),\n",
    "                          ('xgbc', xgb_clf_clone)],\n",
    "                          voting='soft')\n"
   ]
  },
  {
   "cell_type": "code",
   "execution_count": 4,
   "id": "689ebf8e",
   "metadata": {},
   "outputs": [
    {
     "name": "stdout",
     "output_type": "stream",
     "text": [
      "[09:53:17] WARNING: C:\\Users\\Administrator\\workspace\\xgboost-win64_release_1.1.0\\src\\learner.cc:480: \n",
      "Parameters: { use_label_encoder } might not be used.\n",
      "\n",
      "  This may not be accurate due to some parameters are only used in language bindings but\n",
      "  passed down to XGBoost core.  Or some parameters are not used but slip through this\n",
      "  verification. Please open an issue if you find above cases.\n",
      "\n",
      "\n",
      "[09:53:36] WARNING: C:\\Users\\Administrator\\workspace\\xgboost-win64_release_1.1.0\\src\\learner.cc:480: \n",
      "Parameters: { use_label_encoder } might not be used.\n",
      "\n",
      "  This may not be accurate due to some parameters are only used in language bindings but\n",
      "  passed down to XGBoost core.  Or some parameters are not used but slip through this\n",
      "  verification. Please open an issue if you find above cases.\n",
      "\n",
      "\n",
      "[09:53:55] WARNING: C:\\Users\\Administrator\\workspace\\xgboost-win64_release_1.1.0\\src\\learner.cc:480: \n",
      "Parameters: { use_label_encoder } might not be used.\n",
      "\n",
      "  This may not be accurate due to some parameters are only used in language bindings but\n",
      "  passed down to XGBoost core.  Or some parameters are not used but slip through this\n",
      "  verification. Please open an issue if you find above cases.\n",
      "\n",
      "\n",
      "[09:54:14] WARNING: C:\\Users\\Administrator\\workspace\\xgboost-win64_release_1.1.0\\src\\learner.cc:480: \n",
      "Parameters: { use_label_encoder } might not be used.\n",
      "\n",
      "  This may not be accurate due to some parameters are only used in language bindings but\n",
      "  passed down to XGBoost core.  Or some parameters are not used but slip through this\n",
      "  verification. Please open an issue if you find above cases.\n",
      "\n",
      "\n",
      "[09:54:32] WARNING: C:\\Users\\Administrator\\workspace\\xgboost-win64_release_1.1.0\\src\\learner.cc:480: \n",
      "Parameters: { use_label_encoder } might not be used.\n",
      "\n",
      "  This may not be accurate due to some parameters are only used in language bindings but\n",
      "  passed down to XGBoost core.  Or some parameters are not used but slip through this\n",
      "  verification. Please open an issue if you find above cases.\n",
      "\n",
      "\n",
      "[09:55:07] WARNING: C:\\Users\\Administrator\\workspace\\xgboost-win64_release_1.1.0\\src\\learner.cc:480: \n",
      "Parameters: { use_label_encoder } might not be used.\n",
      "\n",
      "  This may not be accurate due to some parameters are only used in language bindings but\n",
      "  passed down to XGBoost core.  Or some parameters are not used but slip through this\n",
      "  verification. Please open an issue if you find above cases.\n",
      "\n",
      "\n",
      "[09:55:39] WARNING: C:\\Users\\Administrator\\workspace\\xgboost-win64_release_1.1.0\\src\\learner.cc:480: \n",
      "Parameters: { use_label_encoder } might not be used.\n",
      "\n",
      "  This may not be accurate due to some parameters are only used in language bindings but\n",
      "  passed down to XGBoost core.  Or some parameters are not used but slip through this\n",
      "  verification. Please open an issue if you find above cases.\n",
      "\n",
      "\n",
      "[09:56:11] WARNING: C:\\Users\\Administrator\\workspace\\xgboost-win64_release_1.1.0\\src\\learner.cc:480: \n",
      "Parameters: { use_label_encoder } might not be used.\n",
      "\n",
      "  This may not be accurate due to some parameters are only used in language bindings but\n",
      "  passed down to XGBoost core.  Or some parameters are not used but slip through this\n",
      "  verification. Please open an issue if you find above cases.\n",
      "\n",
      "\n",
      "[09:56:53] WARNING: C:\\Users\\Administrator\\workspace\\xgboost-win64_release_1.1.0\\src\\learner.cc:480: \n",
      "Parameters: { use_label_encoder } might not be used.\n",
      "\n",
      "  This may not be accurate due to some parameters are only used in language bindings but\n",
      "  passed down to XGBoost core.  Or some parameters are not used but slip through this\n",
      "  verification. Please open an issue if you find above cases.\n",
      "\n",
      "\n",
      "[09:57:26] WARNING: C:\\Users\\Administrator\\workspace\\xgboost-win64_release_1.1.0\\src\\learner.cc:480: \n",
      "Parameters: { use_label_encoder } might not be used.\n",
      "\n",
      "  This may not be accurate due to some parameters are only used in language bindings but\n",
      "  passed down to XGBoost core.  Or some parameters are not used but slip through this\n",
      "  verification. Please open an issue if you find above cases.\n",
      "\n",
      "\n"
     ]
    }
   ],
   "source": [
    "d_tree_cv = cross_validate(d_tree, X_train, y_train, cv=kfold,scoring = ['accuracy','roc_auc','f1_weighted'])\n",
    "e_tree_cv = cross_validate(e_tree, X_train, y_train, cv=kfold,scoring = ['accuracy','roc_auc','f1_weighted'])\n",
    "forest_cv = cross_validate(forest, X_train, y_train, cv=kfold,scoring = ['accuracy','roc_auc','f1_weighted'])\n",
    "logreg_cv = cross_validate(logreg, X_train, y_train, cv=kfold,scoring = ['accuracy','roc_auc','f1_weighted'])\n",
    "b_nb_cv = cross_validate(b_nb, X_train, y_train, cv=kfold,scoring = ['accuracy','roc_auc','f1_weighted'])\n",
    "ada_cv = cross_validate(ada, X_train, y_train, cv=kfold,scoring = ['accuracy','roc_auc','f1_weighted'])\n",
    "xgb_clf_cv = cross_validate(xgb_clf, X_train, y_train, cv=kfold,scoring = ['accuracy','roc_auc','f1_weighted'])\n",
    "voting_cv = cross_validate(voting, X_train, y_train, cv=kfold,scoring = ['accuracy','roc_auc','f1_weighted'])"
   ]
  },
  {
   "cell_type": "code",
   "execution_count": 5,
   "id": "7187e619",
   "metadata": {},
   "outputs": [
    {
     "data": {
      "image/png": "[encoded data removed]",
      "text/plain": [
       "<Figure size 576x432 with 1 Axes>"
      ]
     },
     "metadata": {
      "needs_background": "light"
     },
     "output_type": "display_data"
    }
   ],
   "source": [
    "acc_score = [d_tree_cv['test_accuracy'],e_tree_cv['test_accuracy'],\n",
    "             forest_cv['test_accuracy'],logreg_cv['test_accuracy'],\n",
    "             b_nb_cv['test_accuracy'],ada_cv['test_accuracy']\n",
    "            ,xgb_clf_cv['test_accuracy'],voting_cv['test_accuracy']]\n",
    "plt.figure(figsize=(8,6))\n",
    "sns.boxplot(data=acc_score)\n",
    "plt.xticks(range(0,8),['decison','extra','forest',\n",
    "                       'logistic','berNB','AdaB','XGB','voting'], fontsize=10)\n",
    "plt.xlabel('models',fontsize=12)\n",
    "plt.ylabel('accuracy score',fontsize=12)\n",
    "plt.show()"
   ]
  },
  {
   "cell_type": "code",
   "execution_count": 8,
   "id": "d6a21925",
   "metadata": {},
   "outputs": [
    {
     "data": {
      "image/png": "[encoded data removed]",
      "text/plain": [
       "<Figure size 576x432 with 1 Axes>"
      ]
     },
     "metadata": {
      "needs_background": "light"
     },
     "output_type": "display_data"
    }
   ],
   "source": [
    "roc_score = [d_tree_cv['test_roc_auc'],e_tree_cv['test_roc_auc'],\n",
    "             forest_cv['test_roc_auc'],logreg_cv['test_roc_auc'],\n",
    "             b_nb_cv['test_roc_auc'],ada_cv['test_roc_auc']\n",
    "            ,xgb_clf_cv['test_roc_auc'],voting_cv['test_roc_auc']]\n",
    "plt.figure(figsize=(8,6))\n",
    "sns.boxplot(data=roc_score)\n",
    "plt.xticks(range(0,8),['decison','extra','forest',\n",
    "                       'logistic','berNB','AdaB','XGB','voting'], fontsize=10)\n",
    "plt.xlabel('models',fontsize=12)\n",
    "plt.ylabel('ROC-AUC score',fontsize=12)\n",
    "plt.show()"
   ]
  },
  {
   "cell_type": "code",
   "execution_count": 9,
   "id": "37f09bcc",
   "metadata": {},
   "outputs": [
    {
     "data": {
      "image/png": "[encoded data removed]",
      "text/plain": [
       "<Figure size 576x432 with 1 Axes>"
      ]
     },
     "metadata": {
      "needs_background": "light"
     },
     "output_type": "display_data"
    }
   ],
   "source": [
    "f1_score = [d_tree_cv['test_f1_weighted'],e_tree_cv['test_f1_weighted'],\n",
    "             forest_cv['test_f1_weighted'],logreg_cv['test_f1_weighted'],\n",
    "             b_nb_cv['test_f1_weighted'],ada_cv['test_f1_weighted']\n",
    "            ,xgb_clf_cv['test_f1_weighted'],voting_cv['test_f1_weighted']]\n",
    "plt.figure(figsize=(8,6))\n",
    "sns.boxplot(data=f1_score)\n",
    "plt.xticks(range(0,8),['decison','extra','forest',\n",
    "                       'logistic','berNB','AdaB','XGB','voting'], fontsize=10)\n",
    "plt.xlabel('models',fontsize=12)\n",
    "plt.ylabel('Weighted f1 score',fontsize=12)\n",
    "plt.show()"
   ]
  },
  {
   "cell_type": "markdown",
   "id": "e7030d8d",
   "metadata": {},
   "source": [
    "Based on the plots above, we observe that the performance of decision tree, extra tree,logistic regression and XGBoost models have similar performance on the three scales we choose. \n",
    "\n",
    "Bernoulli Naive Bays is out-performed by all other models for all metrics, and AdaBoosting is out-performed for ROC-AUC scores.  Random forest and voting method have slightly lower weighted f1 score. \n",
    "\n",
    "Now our competiters are decision tree, extra tree,random forest, logistic regression, GBoost and voting."
   ]
  },
  {
   "cell_type": "code",
   "execution_count": 10,
   "id": "31c0fa09",
   "metadata": {},
   "outputs": [
    {
     "data": {
      "image/png": "[encoded data removed]",
      "text/plain": [
       "<Figure size 576x432 with 1 Axes>"
      ]
     },
     "metadata": {
      "needs_background": "light"
     },
     "output_type": "display_data"
    }
   ],
   "source": [
    "ftime_score = [d_tree_cv['fit_time'],e_tree_cv['fit_time'],\n",
    "             forest_cv['fit_time'],logreg_cv['fit_time'],\n",
    "             b_nb_cv['fit_time'],ada_cv['fit_time']\n",
    "            ,xgb_clf_cv['fit_time'],voting_cv['fit_time']]\n",
    "plt.figure(figsize=(8,6))\n",
    "sns.boxplot(data=ftime_score)\n",
    "plt.xticks(range(0,8),['decison','extra','forest',\n",
    "                       'logistic','berNB','AdaB','XGB','voting'], fontsize=10)\n",
    "plt.xlabel('models',fontsize=12)\n",
    "plt.ylabel('fitting time',fontsize=12)\n",
    "plt.show()"
   ]
  },
  {
   "cell_type": "code",
   "execution_count": 12,
   "id": "6826b072",
   "metadata": {},
   "outputs": [
    {
     "data": {
      "image/png": "[encoded data removed]",
      "text/plain": [
       "<Figure size 576x432 with 1 Axes>"
      ]
     },
     "metadata": {
      "needs_background": "light"
     },
     "output_type": "display_data"
    }
   ],
   "source": [
    "stime_score = [d_tree_cv['score_time'],e_tree_cv['score_time'],\n",
    "             forest_cv['score_time'],logreg_cv['score_time'],\n",
    "             b_nb_cv['score_time'],ada_cv['score_time']\n",
    "            ,xgb_clf_cv['score_time'],voting_cv['score_time']]\n",
    "plt.figure(figsize=(8,6))\n",
    "sns.boxplot(data=stime_score)\n",
    "plt.xticks(range(0,8),['decison','extra','forest',\n",
    "                       'logistic','berNB','AdaB','XGB','voting'], fontsize=10)\n",
    "plt.xlabel('models',fontsize=12)\n",
    "plt.ylabel('score time',fontsize=12)\n",
    "plt.show()"
   ]
  },
  {
   "cell_type": "markdown",
   "id": "37390b01",
   "metadata": {},
   "source": [
    "Extra Tree, random forest, XGBoost and voting methods have the longer training (fitting) time, and their performance are not significantly better. We would like to pick from logistic regression and decision tree. \n",
    "\n",
    "Since we only have two models left, we can compare their performance on the training set, and we will fit our data using the entire training set."
   ]
  },
  {
   "cell_type": "code",
   "execution_count": 13,
   "id": "f861329b",
   "metadata": {},
   "outputs": [
    {
     "name": "stdout",
     "output_type": "stream",
     "text": [
      "Classification report for decision tree\n",
      "              precision    recall  f1-score   support\n",
      "\n",
      "         0.0       0.73      0.48      0.58     29527\n",
      "         1.0       0.83      0.94      0.88     81664\n",
      "\n",
      "    accuracy                           0.81    111191\n",
      "   macro avg       0.78      0.71      0.73    111191\n",
      "weighted avg       0.80      0.81      0.80    111191\n",
      "\n",
      "Accuacy score for decision tree is:  0.8141216465361405 \n",
      "\n",
      "ROC-AUC score for decision tree is:  0.8787376613995528 \n",
      "\n",
      "Classification report for logistic regression\n",
      "              precision    recall  f1-score   support\n",
      "\n",
      "         0.0       0.69      0.53      0.60     29527\n",
      "         1.0       0.84      0.92      0.88     81664\n",
      "\n",
      "    accuracy                           0.81    111191\n",
      "   macro avg       0.77      0.72      0.74    111191\n",
      "weighted avg       0.80      0.81      0.80    111191\n",
      "\n",
      "Accuacy score for logistic regression is:  0.8134291444451439 \n",
      "\n",
      "ROC-AUC score for logistic regression is:  0.8782991315188728 \n",
      "\n"
     ]
    }
   ],
   "source": [
    "def column(matrix, i):\n",
    "    return [row[i] for row in matrix]\n",
    "\n",
    "d_tree_f = DecisionTreeClassifier(max_depth=8,random_state=10475)\n",
    "logreg_f = LogisticRegression(C=.1)\n",
    "d_tree_f.fit(X_train,y_train)\n",
    "logreg_f.fit(X_train,y_train)\n",
    "d_pred = d_tree_f.predict(X_test)\n",
    "log_pred = logreg_f.predict(X_test)\n",
    "d_pred_prob = d_tree_f.predict_proba(X_test)\n",
    "log_pred_prob = logreg_f.predict_proba(X_test)\n",
    "\n",
    "print('Classification report for decision tree')\n",
    "print(classification_report(y_test, d_pred))\n",
    "print('Accuacy score for decision tree is: ', accuracy_score(y_test, d_pred),'\\n')\n",
    "d_pred_prob = column(d_pred_prob,1)\n",
    "print('ROC-AUC score for decision tree is: ', roc_auc_score(y_test, d_pred_prob),'\\n')\n",
    "\n",
    "print('Classification report for logistic regression')\n",
    "print(classification_report(y_test, log_pred))\n",
    "print('Accuacy score for logistic regression is: ', accuracy_score(y_test, log_pred),'\\n')\n",
    "log_pred_prob = column(log_pred_prob,1)\n",
    "print('ROC-AUC score for logistic regression is: ', roc_auc_score(y_test, log_pred_prob),'\\n')"
   ]
  },
  {
   "cell_type": "markdown",
   "id": "76992585",
   "metadata": {},
   "source": [
    "The overall performance of decision tree is slightly better than logistic regression, decision tree is our final model. A table for our earlier comparison of "
   ]
  },
  {
   "cell_type": "code",
   "execution_count": 37,
   "id": "454111c2",
   "metadata": {},
   "outputs": [
    {
     "name": "stdout",
     "output_type": "stream",
     "text": [
      "[0.81289066 0.81272062 0.81289347 0.81251265 0.81134629]\n"
     ]
    }
   ],
   "source": [
    "summarytable=pd.DataFrame(data=np.array([np.mean(acc_score,axis=1),np.mean(roc_score,axis=1),np.mean(f1_score,axis=1),np.mean(ftime_score,axis=1),np.mean(stime_score,axis=1)]), index=[\"accuracy\",\"ROC-AUC\",\"f1\",\"Fit Time\",\"Score Time\"], columns=['Decision','Extra Trees','Forest',\n",
    "                       'Logistic','BernoulliNB','AdaBoost','XGBoost','Voting'])  \n",
    "summarytable.to_csv(\"SummaryTable.csv\")"
   ]
  }
 ],
 "metadata": {
  "kernelspec": {
   "display_name": "Python 3",
   "language": "python",
   "name": "python3"
  },
  "language_info": {
   "codemirror_mode": {
    "name": "ipython",
    "version": 3
   },
   "file_extension": ".py",
   "mimetype": "text/x-python",
   "name": "python",
   "nbconvert_exporter": "python",
   "pygments_lexer": "ipython3",
   "version": "3.8.8"
  }
 },
 "nbformat": 4,
 "nbformat_minor": 5
}
