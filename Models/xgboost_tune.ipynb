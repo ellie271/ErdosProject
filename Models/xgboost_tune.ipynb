{
 "cells": [
  {
   "cell_type": "markdown",
   "id": "86de9e65",
   "metadata": {},
   "source": [
    "In this notebook we will try to tune xgboost. "
   ]
  },
  {
   "cell_type": "code",
   "execution_count": 1,
   "id": "3876d556",
   "metadata": {},
   "outputs": [],
   "source": [
    "import pandas as pd\n",
    "import numpy as np\n",
    "import seaborn as sns\n",
    "import matplotlib.pyplot as plt\n",
    "from sklearn.model_selection import train_test_split\n",
    "import xgboost as xgb\n",
    "from sklearn.model_selection import StratifiedKFold\n",
    "from sklearn.base import clone"
   ]
  },
  {
   "cell_type": "code",
   "execution_count": 2,
   "id": "f73e960a",
   "metadata": {},
   "outputs": [],
   "source": [
    "cmm_pa_clf_read = pd.read_csv(\"Data/cmm_pa_clf.csv\",index_col = 0)\n",
    "cmm_pa_clf_data = cmm_pa_clf_read.drop(columns = 'pa_approved').copy()\n",
    "cmm_pa_clf_target = cmm_pa_clf_read['pa_approved'].copy()\n",
    "cmm_pa_clf_data_train,cmm_pa_clf_data_test,cmm_pa_clf_target_train,cmm_pa_clf_target_test= train_test_split(cmm_pa_clf_data, cmm_pa_clf_target, test_size = 0.2, \n",
    "                                             random_state = 10475, shuffle = True,\n",
    "                                            stratify = cmm_pa_clf_target)"
   ]
  },
  {
   "cell_type": "markdown",
   "id": "b1f9828d",
   "metadata": {},
   "source": [
    "The following function can be used to tune xgboost. "
   ]
  },
  {
   "cell_type": "code",
   "execution_count": 3,
   "id": "c7a0b5e2",
   "metadata": {},
   "outputs": [],
   "source": [
    "def xgboost_tune(max_depth :int, subsample :float, \n",
    "                 tree_method :str,eval_metric :str,n_estimators :int, \n",
    "                 eta:float, kf_n_splits :int) -> list:\n",
    "    \n",
    "    skf = StratifiedKFold(n_splits=kf_n_splits)\n",
    "    xgb_clf = xgb.XGBClassifier(max_depth=max_depth,\n",
    "                                subsample = subsample,\n",
    "                                tree_method = tree_method,\n",
    "                                eval_metric = eval_metric,\n",
    "                                n_estimators=n_estimators,\n",
    "                                eta =eta)\n",
    "\n",
    "    roc_auc = [[0] * n_estimators] * kf_n_splits\n",
    "    i = 0\n",
    "    for train_index, test_index in skf.split(cmm_pa_clf_data_train,cmm_pa_clf_target_train):\n",
    "        cmm_pa_clf_data_train_train, cmm_pa_clf_data_train_hold = cmm_pa_clf_data_train.iloc[train_index], cmm_pa_clf_data_train.iloc[test_index]\n",
    "        cmm_pa_clf_target_train_train, cmm_pa_clf_target_train_hold = cmm_pa_clf_target_train.iloc[train_index], cmm_pa_clf_target_train.iloc[test_index]\n",
    "        xgb_clf_clone = clone(xgb_clf)\n",
    "        xgb_clf_clone.fit(cmm_pa_clf_data_train_train,cmm_pa_clf_target_train_train,\n",
    "                          eval_set = [(cmm_pa_clf_data_train_hold,cmm_pa_clf_target_train_hold)],\n",
    "                          verbose = False)\n",
    "        roc_auc[i] = xgb_clf_clone.evals_result()['validation_0']['auc']\n",
    "        i = i+1\n",
    "\n",
    "    return roc_auc\n",
    "    "
   ]
  },
  {
   "cell_type": "code",
   "execution_count": 4,
   "id": "4b5e6899",
   "metadata": {},
   "outputs": [
    {
     "name": "stderr",
     "output_type": "stream",
     "text": [
      "/Users/yilizhang/Library/Python/3.8/lib/python/site-packages/xgboost/sklearn.py:1224: UserWarning: The use of label encoder in XGBClassifier is deprecated and will be removed in a future release. To remove this warning, do the following: 1) Pass option use_label_encoder=False when constructing XGBClassifier object; and 2) Encode your labels (y) as integers starting with 0, i.e. 0, 1, 2, ..., [num_class - 1].\n",
      "  warnings.warn(label_encoder_deprecation_msg, UserWarning)\n"
     ]
    }
   ],
   "source": [
    "roc_auc = xgboost_tune(max_depth = 1, subsample = 0.5, \n",
    "                 tree_method = 'approx',eval_metric = 'auc',n_estimators = 50, eta = 0.2, kf_n_splits = 7)"
   ]
  },
  {
   "cell_type": "markdown",
   "id": "df2316b8",
   "metadata": {},
   "source": [
    "preivously this box is used to test the function defined above. \n",
    "\n",
    "\n",
    "skf = StratifiedKFold(n_splits=7)\n",
    "xgb_clf = xgb.XGBClassifier(\n",
    "                            max_depth=1,\n",
    "                            subsample = 0.5,\n",
    "                            tree_method = 'approx',\n",
    "                            eval_metric = 'auc',\n",
    "                            n_estimators=50,\n",
    "                            eta =.2)\n",
    "\n",
    "roc_auc = [[0] * 50] * 7\n",
    "i = 0\n",
    "for train_index, test_index in skf.split(cmm_pa_clf_data_train,cmm_pa_clf_target_train):\n",
    "    cmm_pa_clf_data_train_train, cmm_pa_clf_data_train_hold = cmm_pa_clf_data_train.iloc[train_index], cmm_pa_clf_data_train.iloc[test_index]\n",
    "    cmm_pa_clf_target_train_train, cmm_pa_clf_target_train_hold = cmm_pa_clf_target_train.iloc[train_index], cmm_pa_clf_target_train.iloc[test_index]\n",
    "    xgb_clf_clone = clone(xgb_clf)\n",
    "    xgb_clf_clone.fit(cmm_pa_clf_data_train_train,cmm_pa_clf_target_train_train,\n",
    "                     eval_set = [(cmm_pa_clf_data_train_hold,cmm_pa_clf_target_train_hold)],\n",
    "                     verbose = False)\n",
    "    roc_auc[i] = xgb_clf_clone.evals_result()['validation_0']['auc']\n",
    "    i = i+1\n",
    "\n",
    "roc_auc = np.array(roc_auc)"
   ]
  },
  {
   "cell_type": "code",
   "execution_count": 5,
   "id": "c1fffe86",
   "metadata": {},
   "outputs": [
    {
     "name": "stdout",
     "output_type": "stream",
     "text": [
      "The optimal number of weak learner for this xgbooster is  45 it achieve an roc_auc score of  0.874595 .\n"
     ]
    }
   ],
   "source": [
    "vec = np.array(roc_auc).mean(0)\n",
    "length = len(vec)\n",
    "print('The optimal number of weak learner for this xgbooster is ', np.argmax(vec)+1, \n",
    "      'it achieve an roc_auc score of ',np.max(vec).round(6),'.')"
   ]
  },
  {
   "cell_type": "code",
   "execution_count": 6,
   "id": "e9c58d93",
   "metadata": {
    "scrolled": true
   },
   "outputs": [
    {
     "data": {
      "image/png": "[encoded data removed]",
      "text/plain": [
       "<Figure size 432x288 with 1 Axes>"
      ]
     },
     "metadata": {
      "needs_background": "light"
     },
     "output_type": "display_data"
    }
   ],
   "source": [
    "plt.plot(range(1,length+1), vec)\n",
    "plt.scatter([range(1,length+1)[np.argmin(vec)]], \n",
    "            [np.min(vec)], c='k')\n",
    "plt.scatter([range(1,length+1)[np.argmax(vec)]], \n",
    "            [np.max(vec)], c='r')\n",
    "plt.text(range(1,length+1)[np.argmin(vec)], \n",
    "         np.min(vec), \"Min.\", fontsize=16)\n",
    "plt.text(range(1,length+1)[np.argmax(vec)], \n",
    "         np.max(vec), \"Max.\", fontsize=16)\n",
    "\n",
    "plt.title(\"auc score\", fontsize=20)\n",
    "plt.xlabel(\"Number of Weak Learners\", fontsize=16)\n",
    "plt.ylabel(\"auc\", fontsize=16)\n",
    "\n",
    "plt.yticks(fontsize=14)\n",
    "plt.xticks(fontsize=14)\n",
    "\n",
    "plt.show()"
   ]
  },
  {
   "cell_type": "code",
   "execution_count": null,
   "id": "b0e65bbb",
   "metadata": {},
   "outputs": [],
   "source": []
  }
 ],
 "metadata": {
  "kernelspec": {
   "display_name": "Python 3 (ipykernel)",
   "language": "python",
   "name": "python3"
  },
  "language_info": {
   "codemirror_mode": {
    "name": "ipython",
    "version": 3
   },
   "file_extension": ".py",
   "mimetype": "text/x-python",
   "name": "python",
   "nbconvert_exporter": "python",
   "pygments_lexer": "ipython3",
   "version": "3.8.2"
  }
 },
 "nbformat": 4,
 "nbformat_minor": 5
}
