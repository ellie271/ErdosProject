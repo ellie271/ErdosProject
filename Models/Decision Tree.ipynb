{
 "cells": [
  {
   "cell_type": "markdown",
   "id": "f1446181",
   "metadata": {},
   "source": [
    "# Decision Tree Classifier"
   ]
  },
  {
   "cell_type": "code",
   "execution_count": 1,
   "id": "a21c0dd0",
   "metadata": {},
   "outputs": [],
   "source": [
    "## For data handling\n",
    "import pandas as pd\n",
    "import numpy as np\n",
    "\n",
    "## For plotting\n",
    "import matplotlib.pyplot as plt\n",
    "import seaborn as sns\n",
    "\n",
    "## This sets the plot style\n",
    "## to have a grid on a white background\n",
    "sns.set_style(\"darkgrid\")"
   ]
  },
  {
   "cell_type": "code",
   "execution_count": 2,
   "id": "09c06241",
   "metadata": {},
   "outputs": [],
   "source": [
    "## Import packages\n",
    "## tree will be used to plot the decisiton tree\n",
    "from sklearn import tree\n",
    "\n",
    "## This is the actual out of the box algorithm\n",
    "from sklearn.tree import DecisionTreeClassifier\n",
    "from sklearn.model_selection import train_test_split, StratifiedKFold\n",
    "from sklearn.metrics import roc_auc_score,accuracy_score"
   ]
  },
  {
   "cell_type": "code",
   "execution_count": 3,
   "id": "6a9a3c47",
   "metadata": {},
   "outputs": [],
   "source": [
    "#import cleaned CSV (no date information)\n",
    "cmm_pa_clf_read = pd.read_csv(\"../Data/cmm_pa_clf.csv\",index_col = 0)\n",
    "\n",
    "cmm_pa_clf_data = cmm_pa_clf_read.drop(columns = 'pa_approved').copy()\n",
    "cmm_pa_clf_target = cmm_pa_clf_read['pa_approved'].copy()\n",
    "X_train,X_test,y_train,y_test= train_test_split(cmm_pa_clf_data, cmm_pa_clf_target, test_size = 0.2, \n",
    "                                             random_state = 10475, shuffle = True,\n",
    "                                            stratify = cmm_pa_clf_target)"
   ]
  },
  {
   "cell_type": "code",
   "execution_count": null,
   "id": "a2489bf1",
   "metadata": {},
   "outputs": [],
   "source": [
    "#kfold cross validation for roc_auc, accuracy\n",
    "kfold = StratifiedKFold(5, shuffle=True, random_state=10475)\n",
    "depth = range(3,15)\n",
    "\n",
    "cv_accs = np.zeros((5, len(depth)))\n",
    "cv_aucs = np.zeros((5, len(depth)))\n",
    "\n",
    "\n",
    "i = 0\n",
    "for train_index, test_index in  kfold.split(X_train, y_train):\n",
    "    X_train_train = X_train.iloc[train_index]\n",
    "    X_holdout = X_train.iloc[test_index]\n",
    "    y_train_train  =  y_train.iloc[train_index]\n",
    "    y_holdout = y_train.iloc[test_index]\n",
    "    \n",
    "    j = 0\n",
    "    for d in depth:\n",
    "        dtree=DecisionTreeClassifier(max_depth=d,random_state=10475)\n",
    "        dtree.fit(X_train_train, y_train_train)\n",
    "        \n",
    "        cv_accs[i,j] = accuracy_score(y_holdout, dtree.predict(X_holdout))\n",
    "        cv_aucs[i,j] = roc_auc_score(y_holdout, dtree.predict_proba(X_holdout)[:,1])\n",
    "        j = j + 1\n",
    "    i = i + 1"
   ]
  },
  {
   "cell_type": "code",
   "execution_count": null,
   "id": "77e22984",
   "metadata": {},
   "outputs": [],
   "source": [
    "print(np.mean(cv_accs,axis=0))\n",
    "print(np.mean(cv_aucs,axis=0))"
   ]
  },
  {
   "cell_type": "code",
   "execution_count": null,
   "id": "3cb212e6",
   "metadata": {},
   "outputs": [],
   "source": [
    "dtree=DecisionTreeClassifier(max_depth=6,random_state=10475)\n",
    "fig=dtree.fit(X_train, y_train)"
   ]
  },
  {
   "cell_type": "code",
   "execution_count": null,
   "id": "08a4c017",
   "metadata": {},
   "outputs": [],
   "source": [
    "plt.figure(figsize = (100,100))\n",
    "\n",
    "## Plot the fitted tree\n",
    "tree.plot_tree(fig,label='all', filled = True,max_depth=4,feature_names=X_train.columns,proportion=True)\n",
    "plt.savefig(\"pa_form_dec_tree.png\")"
   ]
  },
  {
   "cell_type": "code",
   "execution_count": null,
   "id": "4caba13a",
   "metadata": {},
   "outputs": [],
   "source": []
  }
 ],
 "metadata": {
  "kernelspec": {
   "display_name": "Python 3",
   "language": "python",
   "name": "python3"
  },
  "language_info": {
   "codemirror_mode": {
    "name": "ipython",
    "version": 3
   },
   "file_extension": ".py",
   "mimetype": "text/x-python",
   "name": "python",
   "nbconvert_exporter": "python",
   "pygments_lexer": "ipython3",
   "version": "3.8.8"
  }
 },
 "nbformat": 4,
 "nbformat_minor": 5
}
