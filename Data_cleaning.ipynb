{
 "cells": [
  {
   "cell_type": "markdown",
   "metadata": {},
   "source": [
    "## Exploratory Data Analysis and Visualization\n",
    "Here, we check our data to make sure all NaNs correspond to approved claims, and not rejected claims. First, we import packages and read our csv."
   ]
  },
  {
   "cell_type": "code",
   "execution_count": 1,
   "metadata": {},
   "outputs": [],
   "source": [
    "import pandas as pd\n",
    "import numpy as np\n",
    "import seaborn as sns\n",
    "import matplotlib.pyplot as plt\n",
    "from sklearn.model_selection import train_test_split"
   ]
  },
  {
   "cell_type": "code",
   "execution_count": 2,
   "metadata": {},
   "outputs": [],
   "source": [
    "cmm = pd.read_csv(\"Data/CMM.csv\")"
   ]
  },
  {
   "cell_type": "code",
   "execution_count": 3,
   "metadata": {},
   "outputs": [
    {
     "data": {
      "text/html": [
       "<div>\n",
       "<style scoped>\n",
       "    .dataframe tbody tr th:only-of-type {\n",
       "        vertical-align: middle;\n",
       "    }\n",
       "\n",
       "    .dataframe tbody tr th {\n",
       "        vertical-align: top;\n",
       "    }\n",
       "\n",
       "    .dataframe thead th {\n",
       "        text-align: right;\n",
       "    }\n",
       "</style>\n",
       "<table border=\"1\" class=\"dataframe\">\n",
       "  <thead>\n",
       "    <tr style=\"text-align: right;\">\n",
       "      <th></th>\n",
       "      <th>dim_claim_id</th>\n",
       "      <th>dim_pa_id</th>\n",
       "      <th>dim_date_id</th>\n",
       "      <th>bin</th>\n",
       "      <th>drug</th>\n",
       "      <th>reject_code</th>\n",
       "      <th>pharmacy_claim_approved</th>\n",
       "      <th>date_val</th>\n",
       "      <th>calendar_year</th>\n",
       "      <th>calendar_month</th>\n",
       "      <th>calendar_day</th>\n",
       "      <th>day_of_week</th>\n",
       "      <th>is_weekday</th>\n",
       "      <th>is_workday</th>\n",
       "      <th>is_holiday</th>\n",
       "      <th>correct_diagnosis</th>\n",
       "      <th>tried_and_failed</th>\n",
       "      <th>contraindication</th>\n",
       "      <th>pa_approved</th>\n",
       "    </tr>\n",
       "  </thead>\n",
       "  <tbody>\n",
       "    <tr>\n",
       "      <th>0</th>\n",
       "      <td>1</td>\n",
       "      <td>1.0</td>\n",
       "      <td>1</td>\n",
       "      <td>417380</td>\n",
       "      <td>A</td>\n",
       "      <td>75.0</td>\n",
       "      <td>0</td>\n",
       "      <td>2017-01-01</td>\n",
       "      <td>2017</td>\n",
       "      <td>1</td>\n",
       "      <td>1</td>\n",
       "      <td>1</td>\n",
       "      <td>0</td>\n",
       "      <td>0</td>\n",
       "      <td>1</td>\n",
       "      <td>1.0</td>\n",
       "      <td>1.0</td>\n",
       "      <td>0.0</td>\n",
       "      <td>1.0</td>\n",
       "    </tr>\n",
       "    <tr>\n",
       "      <th>1</th>\n",
       "      <td>2</td>\n",
       "      <td>NaN</td>\n",
       "      <td>1</td>\n",
       "      <td>999001</td>\n",
       "      <td>A</td>\n",
       "      <td>NaN</td>\n",
       "      <td>1</td>\n",
       "      <td>2017-01-01</td>\n",
       "      <td>2017</td>\n",
       "      <td>1</td>\n",
       "      <td>1</td>\n",
       "      <td>1</td>\n",
       "      <td>0</td>\n",
       "      <td>0</td>\n",
       "      <td>1</td>\n",
       "      <td>NaN</td>\n",
       "      <td>NaN</td>\n",
       "      <td>NaN</td>\n",
       "      <td>NaN</td>\n",
       "    </tr>\n",
       "    <tr>\n",
       "      <th>2</th>\n",
       "      <td>3</td>\n",
       "      <td>2.0</td>\n",
       "      <td>1</td>\n",
       "      <td>417740</td>\n",
       "      <td>A</td>\n",
       "      <td>76.0</td>\n",
       "      <td>0</td>\n",
       "      <td>2017-01-01</td>\n",
       "      <td>2017</td>\n",
       "      <td>1</td>\n",
       "      <td>1</td>\n",
       "      <td>1</td>\n",
       "      <td>0</td>\n",
       "      <td>0</td>\n",
       "      <td>1</td>\n",
       "      <td>1.0</td>\n",
       "      <td>0.0</td>\n",
       "      <td>0.0</td>\n",
       "      <td>1.0</td>\n",
       "    </tr>\n",
       "    <tr>\n",
       "      <th>3</th>\n",
       "      <td>4</td>\n",
       "      <td>NaN</td>\n",
       "      <td>1</td>\n",
       "      <td>999001</td>\n",
       "      <td>A</td>\n",
       "      <td>NaN</td>\n",
       "      <td>1</td>\n",
       "      <td>2017-01-01</td>\n",
       "      <td>2017</td>\n",
       "      <td>1</td>\n",
       "      <td>1</td>\n",
       "      <td>1</td>\n",
       "      <td>0</td>\n",
       "      <td>0</td>\n",
       "      <td>1</td>\n",
       "      <td>NaN</td>\n",
       "      <td>NaN</td>\n",
       "      <td>NaN</td>\n",
       "      <td>NaN</td>\n",
       "    </tr>\n",
       "    <tr>\n",
       "      <th>4</th>\n",
       "      <td>5</td>\n",
       "      <td>NaN</td>\n",
       "      <td>1</td>\n",
       "      <td>417740</td>\n",
       "      <td>A</td>\n",
       "      <td>NaN</td>\n",
       "      <td>1</td>\n",
       "      <td>2017-01-01</td>\n",
       "      <td>2017</td>\n",
       "      <td>1</td>\n",
       "      <td>1</td>\n",
       "      <td>1</td>\n",
       "      <td>0</td>\n",
       "      <td>0</td>\n",
       "      <td>1</td>\n",
       "      <td>NaN</td>\n",
       "      <td>NaN</td>\n",
       "      <td>NaN</td>\n",
       "      <td>NaN</td>\n",
       "    </tr>\n",
       "  </tbody>\n",
       "</table>\n",
       "</div>"
      ],
      "text/plain": [
       "   dim_claim_id  dim_pa_id  dim_date_id     bin drug  reject_code  \\\n",
       "0             1        1.0            1  417380    A         75.0   \n",
       "1             2        NaN            1  999001    A          NaN   \n",
       "2             3        2.0            1  417740    A         76.0   \n",
       "3             4        NaN            1  999001    A          NaN   \n",
       "4             5        NaN            1  417740    A          NaN   \n",
       "\n",
       "   pharmacy_claim_approved    date_val  calendar_year  calendar_month  \\\n",
       "0                        0  2017-01-01           2017               1   \n",
       "1                        1  2017-01-01           2017               1   \n",
       "2                        0  2017-01-01           2017               1   \n",
       "3                        1  2017-01-01           2017               1   \n",
       "4                        1  2017-01-01           2017               1   \n",
       "\n",
       "   calendar_day  day_of_week  is_weekday  is_workday  is_holiday  \\\n",
       "0             1            1           0           0           1   \n",
       "1             1            1           0           0           1   \n",
       "2             1            1           0           0           1   \n",
       "3             1            1           0           0           1   \n",
       "4             1            1           0           0           1   \n",
       "\n",
       "   correct_diagnosis  tried_and_failed  contraindication  pa_approved  \n",
       "0                1.0               1.0               0.0          1.0  \n",
       "1                NaN               NaN               NaN          NaN  \n",
       "2                1.0               0.0               0.0          1.0  \n",
       "3                NaN               NaN               NaN          NaN  \n",
       "4                NaN               NaN               NaN          NaN  "
      ]
     },
     "execution_count": 3,
     "metadata": {},
     "output_type": "execute_result"
    }
   ],
   "source": [
    "#What does it look like?\n",
    "cmm.head()"
   ]
  },
  {
   "cell_type": "markdown",
   "metadata": {},
   "source": [
    "First, we make sure claims aren't duplicated in this dataset. To do this, we compare the number of entries to the number of claim ids."
   ]
  },
  {
   "cell_type": "code",
   "execution_count": 4,
   "metadata": {
    "scrolled": true
   },
   "outputs": [
    {
     "name": "stdout",
     "output_type": "stream",
     "text": [
      "We have 1335576 records\n"
     ]
    }
   ],
   "source": [
    "datalength = len(cmm)\n",
    "print(\"We have\",datalength,\"records\")"
   ]
  },
  {
   "cell_type": "code",
   "execution_count": 5,
   "metadata": {},
   "outputs": [
    {
     "name": "stdout",
     "output_type": "stream",
     "text": [
      "There are 1335576 unique records, the same as the total number of records.\n"
     ]
    }
   ],
   "source": [
    "if len(cmm['dim_claim_id'].unique())==datalength:\n",
    "    print(\"There are\",len(cmm['dim_claim_id'].unique()),\"unique records, the same as the total number of records.\")"
   ]
  },
  {
   "cell_type": "markdown",
   "metadata": {},
   "source": [
    "Next, we look at how many unique Payer BINs there are, and how many drugs. We see there are 4 payers represented, and 3 drugs."
   ]
  },
  {
   "cell_type": "code",
   "execution_count": 6,
   "metadata": {},
   "outputs": [
    {
     "name": "stdout",
     "output_type": "stream",
     "text": [
      "There are 4 unique payer BINs in the dataset.\n"
     ]
    }
   ],
   "source": [
    "print(\"There are\",len(cmm['bin'].unique()),\"unique payer BINs in the dataset.\")"
   ]
  },
  {
   "cell_type": "code",
   "execution_count": 7,
   "metadata": {},
   "outputs": [
    {
     "name": "stdout",
     "output_type": "stream",
     "text": [
      "There are 3 unique drugs in the dataset.\n"
     ]
    }
   ],
   "source": [
    "print(\"There are\",len(cmm['drug'].unique()),\"unique drugs in the dataset.\")"
   ]
  },
  {
   "cell_type": "markdown",
   "metadata": {},
   "source": [
    "Now, we check to make sure the only NaNs for PA info are for those claims where a PA form was not needed (and the claim was approved by pharmacy). This check is on reject_code, pa_approved, correct_diagnosis, contraindication, and tried_and_failed."
   ]
  },
  {
   "cell_type": "code",
   "execution_count": 8,
   "metadata": {},
   "outputs": [
    {
     "name": "stdout",
     "output_type": "stream",
     "text": [
      "The number of claims with a PA form is 555951 and the number of claims that were rejected is 555951 .\n",
      "These are the same, so we can continue.\n"
     ]
    }
   ],
   "source": [
    "print(\"The number of claims with a PA form is\",len(cmm[cmm['dim_pa_id'].notna()]),\"and the number of claims\",\n",
    "      \"that were rejected is\",len(cmm[cmm['pharmacy_claim_approved']==0]),\".\")\n",
    "if len(cmm[cmm['dim_pa_id'].notna()])==len(cmm[cmm['pharmacy_claim_approved']==0]):\n",
    "    print(\"These are the same, so we can continue.\")  \n",
    "    pa_count=len(cmm[cmm['dim_pa_id'].notna()])\n",
    "else:\n",
    "    print(\"These differ, look back at claims that have claim not approved (pharmacy_claim_approved=0) but no corresponding PA id.\")"
   ]
  },
  {
   "cell_type": "code",
   "execution_count": 9,
   "metadata": {},
   "outputs": [
    {
     "name": "stdout",
     "output_type": "stream",
     "text": [
      "There are 555951 claims with a PA form and a reject_code, so no reject codes are missing.\n"
     ]
    }
   ],
   "source": [
    "if np.sum(cmm[cmm['dim_pa_id'].notna()]['reject_code'].notna())==pa_count:\n",
    "    print(\"There are\",np.sum(cmm[cmm['dim_pa_id'].notna()]['reject_code'].notna()),\"claims with a PA form and a reject_code, so no reject codes are missing.\")"
   ]
  },
  {
   "cell_type": "code",
   "execution_count": 10,
   "metadata": {},
   "outputs": [
    {
     "name": "stdout",
     "output_type": "stream",
     "text": [
      "There are 555951 claims with a PA form and an approval flag, so no results of the form (approved/denied) are missing.\n"
     ]
    }
   ],
   "source": [
    "if np.sum(cmm[cmm['dim_pa_id'].notna()]['pa_approved'].notna())==pa_count:\n",
    "    print(\"There are\",np.sum(cmm[cmm['dim_pa_id'].notna()]['pa_approved'].notna()),\"claims with a PA form and an approval flag, so no results of the form (approved/denied) are missing.\")"
   ]
  },
  {
   "cell_type": "code",
   "execution_count": 11,
   "metadata": {},
   "outputs": [
    {
     "name": "stdout",
     "output_type": "stream",
     "text": [
      "There are 555951 claims with a PA form and a correct_diagnosis flag, so no information on correct diagnosis are missing.\n"
     ]
    }
   ],
   "source": [
    "if np.sum(cmm[cmm['dim_pa_id'].notna()]['correct_diagnosis'].notna())==pa_count:\n",
    "    print(\"There are\",np.sum(cmm[cmm['dim_pa_id'].notna()]['correct_diagnosis'].notna()),\"claims with a PA form and a correct_diagnosis flag, so no information on correct diagnosis are missing.\")"
   ]
  },
  {
   "cell_type": "code",
   "execution_count": 12,
   "metadata": {},
   "outputs": [
    {
     "name": "stdout",
     "output_type": "stream",
     "text": [
      "There are 555951 claims with a PA form and a tried_and_failed flag, so no information on if patients tried and failed the generic alternatives is missing.\n"
     ]
    }
   ],
   "source": [
    "if np.sum(cmm[cmm['dim_pa_id'].notna()]['tried_and_failed'].notna())==pa_count:\n",
    "    print(\"There are\",np.sum(cmm[cmm['dim_pa_id'].notna()]['tried_and_failed'].notna()),\"claims with a PA form and a tried_and_failed flag, so no information on if patients tried and failed the generic alternatives is missing.\")"
   ]
  },
  {
   "cell_type": "code",
   "execution_count": 13,
   "metadata": {},
   "outputs": [
    {
     "name": "stdout",
     "output_type": "stream",
     "text": [
      "There are 555951 claims with a PA form and a contraindication flag, so no information on if patients have a contraindication to the requested drug is missing.\n"
     ]
    }
   ],
   "source": [
    "if np.sum(cmm[cmm['dim_pa_id'].notna()]['contraindication'].notna())==pa_count:\n",
    "    print(\"There are\",np.sum(cmm[cmm['dim_pa_id'].notna()]['contraindication'].notna()),\"claims with a PA form and a contraindication flag, so no information on if patients have a contraindication to the requested drug is missing.\")"
   ]
  },
  {
   "cell_type": "code",
   "execution_count": null,
   "metadata": {},
   "outputs": [],
   "source": []
  }
 ],
 "metadata": {
  "kernelspec": {
   "display_name": "Python 3",
   "language": "python",
   "name": "python3"
  },
  "language_info": {
   "codemirror_mode": {
    "name": "ipython",
    "version": 3
   },
   "file_extension": ".py",
   "mimetype": "text/x-python",
   "name": "python",
   "nbconvert_exporter": "python",
   "pygments_lexer": "ipython3",
   "version": "3.8.8"
  }
 },
 "nbformat": 4,
 "nbformat_minor": 4
}
