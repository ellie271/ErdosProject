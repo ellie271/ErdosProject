{
 "cells": [
  {
   "cell_type": "markdown",
   "metadata": {},
   "source": [
    "## Exploratory Data Analysis and Visualization\n",
    "Here, we check our data to make sure all NaNs correspond to approved claims, and not rejected claims. First, we import packages and read our csv."
   ]
  },
  {
   "cell_type": "code",
   "execution_count": 1,
   "metadata": {},
   "outputs": [],
   "source": [
    "import pandas as pd\n",
    "import numpy as np\n",
    "import seaborn as sns\n",
    "import matplotlib.pyplot as plt\n",
    "from sklearn.model_selection import train_test_split"
   ]
  },
  {
   "cell_type": "code",
   "execution_count": 2,
   "metadata": {},
   "outputs": [],
   "source": [
    "cmm = pd.read_csv(\"Data/CMM.csv\")"
   ]
  },
  {
   "cell_type": "code",
   "execution_count": 3,
   "metadata": {},
   "outputs": [
    {
     "data": {
      "text/html": [
       "<div>\n",
       "<style scoped>\n",
       "    .dataframe tbody tr th:only-of-type {\n",
       "        vertical-align: middle;\n",
       "    }\n",
       "\n",
       "    .dataframe tbody tr th {\n",
       "        vertical-align: top;\n",
       "    }\n",
       "\n",
       "    .dataframe thead th {\n",
       "        text-align: right;\n",
       "    }\n",
       "</style>\n",
       "<table border=\"1\" class=\"dataframe\">\n",
       "  <thead>\n",
       "    <tr style=\"text-align: right;\">\n",
       "      <th></th>\n",
       "      <th>dim_claim_id</th>\n",
       "      <th>dim_pa_id</th>\n",
       "      <th>dim_date_id</th>\n",
       "      <th>bin</th>\n",
       "      <th>drug</th>\n",
       "      <th>reject_code</th>\n",
       "      <th>pharmacy_claim_approved</th>\n",
       "      <th>date_val</th>\n",
       "      <th>calendar_year</th>\n",
       "      <th>calendar_month</th>\n",
       "      <th>calendar_day</th>\n",
       "      <th>day_of_week</th>\n",
       "      <th>is_weekday</th>\n",
       "      <th>is_workday</th>\n",
       "      <th>is_holiday</th>\n",
       "      <th>correct_diagnosis</th>\n",
       "      <th>tried_and_failed</th>\n",
       "      <th>contraindication</th>\n",
       "      <th>pa_approved</th>\n",
       "    </tr>\n",
       "  </thead>\n",
       "  <tbody>\n",
       "    <tr>\n",
       "      <th>0</th>\n",
       "      <td>1</td>\n",
       "      <td>1.0</td>\n",
       "      <td>1</td>\n",
       "      <td>417380</td>\n",
       "      <td>A</td>\n",
       "      <td>75.0</td>\n",
       "      <td>0</td>\n",
       "      <td>2017-01-01</td>\n",
       "      <td>2017</td>\n",
       "      <td>1</td>\n",
       "      <td>1</td>\n",
       "      <td>1</td>\n",
       "      <td>0</td>\n",
       "      <td>0</td>\n",
       "      <td>1</td>\n",
       "      <td>1.0</td>\n",
       "      <td>1.0</td>\n",
       "      <td>0.0</td>\n",
       "      <td>1.0</td>\n",
       "    </tr>\n",
       "    <tr>\n",
       "      <th>1</th>\n",
       "      <td>2</td>\n",
       "      <td>NaN</td>\n",
       "      <td>1</td>\n",
       "      <td>999001</td>\n",
       "      <td>A</td>\n",
       "      <td>NaN</td>\n",
       "      <td>1</td>\n",
       "      <td>2017-01-01</td>\n",
       "      <td>2017</td>\n",
       "      <td>1</td>\n",
       "      <td>1</td>\n",
       "      <td>1</td>\n",
       "      <td>0</td>\n",
       "      <td>0</td>\n",
       "      <td>1</td>\n",
       "      <td>NaN</td>\n",
       "      <td>NaN</td>\n",
       "      <td>NaN</td>\n",
       "      <td>NaN</td>\n",
       "    </tr>\n",
       "    <tr>\n",
       "      <th>2</th>\n",
       "      <td>3</td>\n",
       "      <td>2.0</td>\n",
       "      <td>1</td>\n",
       "      <td>417740</td>\n",
       "      <td>A</td>\n",
       "      <td>76.0</td>\n",
       "      <td>0</td>\n",
       "      <td>2017-01-01</td>\n",
       "      <td>2017</td>\n",
       "      <td>1</td>\n",
       "      <td>1</td>\n",
       "      <td>1</td>\n",
       "      <td>0</td>\n",
       "      <td>0</td>\n",
       "      <td>1</td>\n",
       "      <td>1.0</td>\n",
       "      <td>0.0</td>\n",
       "      <td>0.0</td>\n",
       "      <td>1.0</td>\n",
       "    </tr>\n",
       "    <tr>\n",
       "      <th>3</th>\n",
       "      <td>4</td>\n",
       "      <td>NaN</td>\n",
       "      <td>1</td>\n",
       "      <td>999001</td>\n",
       "      <td>A</td>\n",
       "      <td>NaN</td>\n",
       "      <td>1</td>\n",
       "      <td>2017-01-01</td>\n",
       "      <td>2017</td>\n",
       "      <td>1</td>\n",
       "      <td>1</td>\n",
       "      <td>1</td>\n",
       "      <td>0</td>\n",
       "      <td>0</td>\n",
       "      <td>1</td>\n",
       "      <td>NaN</td>\n",
       "      <td>NaN</td>\n",
       "      <td>NaN</td>\n",
       "      <td>NaN</td>\n",
       "    </tr>\n",
       "    <tr>\n",
       "      <th>4</th>\n",
       "      <td>5</td>\n",
       "      <td>NaN</td>\n",
       "      <td>1</td>\n",
       "      <td>417740</td>\n",
       "      <td>A</td>\n",
       "      <td>NaN</td>\n",
       "      <td>1</td>\n",
       "      <td>2017-01-01</td>\n",
       "      <td>2017</td>\n",
       "      <td>1</td>\n",
       "      <td>1</td>\n",
       "      <td>1</td>\n",
       "      <td>0</td>\n",
       "      <td>0</td>\n",
       "      <td>1</td>\n",
       "      <td>NaN</td>\n",
       "      <td>NaN</td>\n",
       "      <td>NaN</td>\n",
       "      <td>NaN</td>\n",
       "    </tr>\n",
       "  </tbody>\n",
       "</table>\n",
       "</div>"
      ],
      "text/plain": [
       "   dim_claim_id  dim_pa_id  dim_date_id     bin drug  reject_code  \\\n",
       "0             1        1.0            1  417380    A         75.0   \n",
       "1             2        NaN            1  999001    A          NaN   \n",
       "2             3        2.0            1  417740    A         76.0   \n",
       "3             4        NaN            1  999001    A          NaN   \n",
       "4             5        NaN            1  417740    A          NaN   \n",
       "\n",
       "   pharmacy_claim_approved    date_val  calendar_year  calendar_month  \\\n",
       "0                        0  2017-01-01           2017               1   \n",
       "1                        1  2017-01-01           2017               1   \n",
       "2                        0  2017-01-01           2017               1   \n",
       "3                        1  2017-01-01           2017               1   \n",
       "4                        1  2017-01-01           2017               1   \n",
       "\n",
       "   calendar_day  day_of_week  is_weekday  is_workday  is_holiday  \\\n",
       "0             1            1           0           0           1   \n",
       "1             1            1           0           0           1   \n",
       "2             1            1           0           0           1   \n",
       "3             1            1           0           0           1   \n",
       "4             1            1           0           0           1   \n",
       "\n",
       "   correct_diagnosis  tried_and_failed  contraindication  pa_approved  \n",
       "0                1.0               1.0               0.0          1.0  \n",
       "1                NaN               NaN               NaN          NaN  \n",
       "2                1.0               0.0               0.0          1.0  \n",
       "3                NaN               NaN               NaN          NaN  \n",
       "4                NaN               NaN               NaN          NaN  "
      ]
     },
     "execution_count": 3,
     "metadata": {},
     "output_type": "execute_result"
    }
   ],
   "source": [
    "#What does it look like?\n",
    "cmm.head()"
   ]
  },
  {
   "cell_type": "markdown",
   "metadata": {},
   "source": [
    "First, we make sure claims aren't duplicated in this dataset. To do this, we compare the number of entries to the number of claim ids."
   ]
  },
  {
   "cell_type": "code",
   "execution_count": 4,
   "metadata": {
    "scrolled": true
   },
   "outputs": [
    {
     "name": "stdout",
     "output_type": "stream",
     "text": [
      "We have 1335576 records\n"
     ]
    }
   ],
   "source": [
    "datalength = len(cmm)\n",
    "print(\"We have\",datalength,\"records\")"
   ]
  },
  {
   "cell_type": "code",
   "execution_count": 5,
   "metadata": {},
   "outputs": [
    {
     "name": "stdout",
     "output_type": "stream",
     "text": [
      "There are 1335576 unique records, the same as the total number of records.\n"
     ]
    }
   ],
   "source": [
    "if len(cmm['dim_claim_id'].unique())==datalength:\n",
    "    print(\"There are\",len(cmm['dim_claim_id'].unique()),\"unique records, the same as the total number of records.\")"
   ]
  },
  {
   "cell_type": "markdown",
   "metadata": {},
   "source": [
    "Next, we look at how many unique Payer BINs there are, and how many drugs. We see there are 4 payers represented, and 3 drugs."
   ]
  },
  {
   "cell_type": "code",
   "execution_count": 6,
   "metadata": {},
   "outputs": [
    {
     "name": "stdout",
     "output_type": "stream",
     "text": [
      "There are 4 unique payer BINs in the dataset.\n"
     ]
    }
   ],
   "source": [
    "print(\"There are\",len(cmm['bin'].unique()),\"unique payer BINs in the dataset.\")"
   ]
  },
  {
   "cell_type": "code",
   "execution_count": 7,
   "metadata": {},
   "outputs": [
    {
     "name": "stdout",
     "output_type": "stream",
     "text": [
      "There are 3 unique drugs in the dataset.\n"
     ]
    }
   ],
   "source": [
    "print(\"There are\",len(cmm['drug'].unique()),\"unique drugs in the dataset.\")"
   ]
  },
  {
   "cell_type": "markdown",
   "metadata": {},
   "source": [
    "Now, we check to make sure the only NaNs for PA info are for those claims where a PA form was not needed (and the claim was approved by pharmacy). This check is on reject_code, pa_approved, correct_diagnosis, contraindication, and tried_and_failed."
   ]
  },
  {
   "cell_type": "code",
   "execution_count": 8,
   "metadata": {},
   "outputs": [
    {
     "name": "stdout",
     "output_type": "stream",
     "text": [
      "The number of claims with a PA form is 555951 and the number of claims that were rejected is 555951 .\n",
      "These are the same, so we can continue.\n"
     ]
    }
   ],
   "source": [
    "print(\"The number of claims with a PA form is\",len(cmm[cmm['dim_pa_id'].notna()]),\"and the number of claims\",\n",
    "      \"that were rejected is\",len(cmm[cmm['pharmacy_claim_approved']==0]),\".\")\n",
    "if len(cmm[cmm['dim_pa_id'].notna()])==len(cmm[cmm['pharmacy_claim_approved']==0]):\n",
    "    print(\"These are the same, so we can continue.\")  \n",
    "    pa_count=len(cmm[cmm['dim_pa_id'].notna()])\n",
    "else:\n",
    "    print(\"These differ, look back at claims that have claim not approved (pharmacy_claim_approved=0) but no corresponding PA id.\")"
   ]
  },
  {
   "cell_type": "code",
   "execution_count": 9,
   "metadata": {},
   "outputs": [
    {
     "name": "stdout",
     "output_type": "stream",
     "text": [
      "There are 555951 claims with a PA form and a reject_code, so no reject codes are missing.\n"
     ]
    }
   ],
   "source": [
    "if np.sum(cmm[cmm['dim_pa_id'].notna()]['reject_code'].notna())==pa_count:\n",
    "    print(\"There are\",np.sum(cmm[cmm['dim_pa_id'].notna()]['reject_code'].notna()),\"claims with a PA form and a reject_code, so no reject codes are missing.\")"
   ]
  },
  {
   "cell_type": "code",
   "execution_count": 10,
   "metadata": {},
   "outputs": [
    {
     "name": "stdout",
     "output_type": "stream",
     "text": [
      "There are 555951 claims with a PA form and an approval flag, so no results of the form (approved/denied) are missing.\n"
     ]
    }
   ],
   "source": [
    "if np.sum(cmm[cmm['dim_pa_id'].notna()]['pa_approved'].notna())==pa_count:\n",
    "    print(\"There are\",np.sum(cmm[cmm['dim_pa_id'].notna()]['pa_approved'].notna()),\"claims with a PA form and an approval flag, so no results of the form (approved/denied) are missing.\")"
   ]
  },
  {
   "cell_type": "code",
   "execution_count": 11,
   "metadata": {},
   "outputs": [
    {
     "name": "stdout",
     "output_type": "stream",
     "text": [
      "There are 555951 claims with a PA form and a correct_diagnosis flag, so no information on correct diagnosis are missing.\n"
     ]
    }
   ],
   "source": [
    "if np.sum(cmm[cmm['dim_pa_id'].notna()]['correct_diagnosis'].notna())==pa_count:\n",
    "    print(\"There are\",np.sum(cmm[cmm['dim_pa_id'].notna()]['correct_diagnosis'].notna()),\"claims with a PA form and a correct_diagnosis flag, so no information on correct diagnosis are missing.\")"
   ]
  },
  {
   "cell_type": "code",
   "execution_count": 12,
   "metadata": {},
   "outputs": [
    {
     "name": "stdout",
     "output_type": "stream",
     "text": [
      "There are 555951 claims with a PA form and a tried_and_failed flag, so no information on if patients tried and failed the generic alternatives is missing.\n"
     ]
    }
   ],
   "source": [
    "if np.sum(cmm[cmm['dim_pa_id'].notna()]['tried_and_failed'].notna())==pa_count:\n",
    "    print(\"There are\",np.sum(cmm[cmm['dim_pa_id'].notna()]['tried_and_failed'].notna()),\"claims with a PA form and a tried_and_failed flag, so no information on if patients tried and failed the generic alternatives is missing.\")"
   ]
  },
  {
   "cell_type": "code",
   "execution_count": 13,
   "metadata": {},
   "outputs": [
    {
     "name": "stdout",
     "output_type": "stream",
     "text": [
      "There are 555951 claims with a PA form and a contraindication flag, so no information on if patients have a contraindication to the requested drug is missing.\n"
     ]
    }
   ],
   "source": [
    "if np.sum(cmm[cmm['dim_pa_id'].notna()]['contraindication'].notna())==pa_count:\n",
    "    print(\"There are\",np.sum(cmm[cmm['dim_pa_id'].notna()]['contraindication'].notna()),\"claims with a PA form and a contraindication flag, so no information on if patients have a contraindication to the requested drug is missing.\")"
   ]
  },
  {
   "cell_type": "markdown",
   "metadata": {},
   "source": [
    "Let us check if we can find any records where having same bin, drug, reject code, correct_diagnosis, tried_and_failed, contradictions, but have differnt pa_approved.\n",
    "\n",
    "We will need to compare 4\\*3\\*3\\*2\\*2\\*2 = 288 different groups of datas for different combination of bin, drug, reject code, correct_diagnosis, tried_and_failed, and contradictions. We will save these 288 groups as .csv files under folder \\Data\\tempData. They are named after 'bin_rc_cd_taf_ct_drug.csv', where rc stands for rejct_code, cd statnds for correct_diagnosis, taf stands for tried_and_failed, ct stands for contraindication.  \n",
    "\n",
    "Since for now we are not taking date informations in to consideration, we can drop the corresponding columns to save some space. We would need to add dummy columns for drug type as for some reason query() does not like string comparisons.\n",
    "\n"
   ]
  },
  {
   "cell_type": "code",
   "execution_count": 14,
   "metadata": {},
   "outputs": [],
   "source": [
    "cmm_cat = pd.concat([cmm, pd.get_dummies(cmm['drug']).copy()], axis=1) \n",
    "list(cmm_cat.columns)\n",
    "cmm_cat = cmm_cat.drop(columns=['drug', 'date_val',\n",
    " 'calendar_year',\n",
    " 'calendar_month',\n",
    " 'calendar_day',\n",
    " 'day_of_week',\n",
    " 'is_weekday',\n",
    " 'is_workday',\n",
    " 'is_holiday',])"
   ]
  },
  {
   "cell_type": "markdown",
   "metadata": {},
   "source": [
    "We are only interested in the ones that were not approved by the pharmacy, so we only consider the ones that have proper reject codes."
   ]
  },
  {
   "cell_type": "code",
   "execution_count": 15,
   "metadata": {},
   "outputs": [],
   "source": [
    "cmm_bin = cmm.bin.unique()\n",
    "cmm_drug = cmm.drug.unique()\n",
    "cmm_reject_code = [75,76,70]\n",
    "cmm_correct_diagnosis = [1,0]\n",
    "cmm_tried_and_failed = [1,0]\n",
    "cmm_contraindication = [1,0]"
   ]
  },
  {
   "cell_type": "markdown",
   "metadata": {},
   "source": [
    "We used query() to select desired rows from the datafram and saved different groups as .csv files. \n",
    "\n",
    "The variable 'name' is a list which contains strings \"bin_rc_cd_taf_ct_drug.csv\".The variable 'havcont' is a list which index mates 'name'. havcont[i] = 1 if there are no contradicting data, 2 if there are contradicting data, 0 if there are no record that matches the combination of secelction. "
   ]
  },
  {
   "cell_type": "code",
   "execution_count": 16,
   "metadata": {},
   "outputs": [],
   "source": [
    "names = []\n",
    "havecont = []\n",
    "for bi in cmm_bin:\n",
    "    for rc in cmm_reject_code:\n",
    "        for cd in cmm_correct_diagnosis:\n",
    "            for taf in cmm_tried_and_failed:\n",
    "                for ct in cmm_contraindication:\n",
    "                    nameA = str(bi)+'_'+str(rc)+'_'+str(cd)+'_'+str(taf)+'_'+str(cd)+'_'+str(ct)+'_A.csv'\n",
    "                    name.append(nameA)\n",
    "                    tempA = cmm_cat.query('bin == '+str(bi)+' and reject_code == '+str(rc)+ \n",
    "                                 ' and correct_diagnosis =='+str(cd)+' and tried_and_failed == '+str(taf)\n",
    "                                 +' and contraindication =='+ str(ct)+'and A == 1')\n",
    "                    tempA.to_csv('Data/tempData/'+nameA)\n",
    "                    havecont.append(len(tempA.pa_approved.unique()))\n",
    "                    nameB = str(bi)+'_'+str(rc)+'_'+str(cd)+'_'+str(taf)+'_'+str(cd)+'_'+str(ct)+'_B.csv'\n",
    "                    name.append(nameB)\n",
    "                    tempB = cmm_cat.query('bin == '+str(bi)+' and reject_code == '+str(rc)+ \n",
    "                                 ' and correct_diagnosis =='+str(cd)+' and tried_and_failed == '+str(taf)\n",
    "                                 +' and contraindication =='+ str(ct)+'and B == 1')\n",
    "                    tempB.to_csv('Data/tempData/'+nameB)\n",
    "                    havecont.append(len(tempB.pa_approved.unique()))\n",
    "                    nameC = str(bi)+'_'+str(rc)+'_'+str(cd)+'_'+str(taf)+'_'+str(cd)+'_'+str(ct)+'_C.csv'\n",
    "                    name.append(nameC)\n",
    "                    tempC = cmm_cat.query('bin == '+str(bi)+' and reject_code == '+str(rc)+ \n",
    "                                 ' and correct_diagnosis =='+str(cd)+' and tried_and_failed == '+str(taf)\n",
    "                                 +' and contraindication == '+ str(ct)+' and C == 1')\n",
    "                    tempC.to_csv('Data/tempData/'+nameC)\n",
    "                    havecont.append(len(tempC.pa_approved.unique()))\n",
    "                    \n",
    "            \n"
   ]
  },
  {
   "cell_type": "markdown",
   "metadata": {},
   "source": [
    "\n"
   ]
  },
  {
   "cell_type": "code",
   "execution_count": 17,
   "metadata": {},
   "outputs": [
    {
     "name": "stdout",
     "output_type": "stream",
     "text": [
      "Among the 288 different combinations, there are 192 of them have no matched records and 96 of them have 'contradicting' records. There are none of the have 'not-contradicting' records.\n"
     ]
    }
   ],
   "source": [
    "print('Among the 288 different combinations, there are '+\n",
    "      str(havecont.count(0))+' of them have no matched records and '+ \n",
    "      str(havecont.count(2))+' of them have \\'contradicting\\' records. '+\n",
    "      'There are none of the have \\'not-contradicting\\' records.')"
   ]
  },
  {
   "cell_type": "markdown",
   "metadata": {},
   "source": [
    "We can have a look of some recoreds that have 'contradicting' records.\n",
    "Say, some of the data from 417380_75_1_1_1_1_A.csv (the group of records where bin = 417380, reject_code = 75, correct_diagnosis = 1, tried_and_failed = 1, contraindication = 1). \n",
    "The column 'Unnamed: 0\t' is the previous index of the row from cmm.csv . "
   ]
  },
  {
   "cell_type": "code",
   "execution_count": 18,
   "metadata": {},
   "outputs": [],
   "source": [
    "cmm_417380_75_1_1_1_1_A = pd.read_csv(\"Data/tempData/417380_75_1_1_1_1_A.csv\")"
   ]
  },
  {
   "cell_type": "code",
   "execution_count": 19,
   "metadata": {},
   "outputs": [],
   "source": [
    "cmm_417380_75_1_1_1_1_A_approved = cmm_417380_75_1_1_1_1_A.loc[cmm_417380_75_1_1_1_1_A['pa_approved'] == 1]\n",
    "cmm_417380_75_1_1_1_1_A_not_approved = cmm_417380_75_1_1_1_1_A.loc[cmm_417380_75_1_1_1_1_A['pa_approved'] == 0]"
   ]
  },
  {
   "cell_type": "code",
   "execution_count": 20,
   "metadata": {},
   "outputs": [
    {
     "data": {
      "text/html": [
       "<div>\n",
       "<style scoped>\n",
       "    .dataframe tbody tr th:only-of-type {\n",
       "        vertical-align: middle;\n",
       "    }\n",
       "\n",
       "    .dataframe tbody tr th {\n",
       "        vertical-align: top;\n",
       "    }\n",
       "\n",
       "    .dataframe thead th {\n",
       "        text-align: right;\n",
       "    }\n",
       "</style>\n",
       "<table border=\"1\" class=\"dataframe\">\n",
       "  <thead>\n",
       "    <tr style=\"text-align: right;\">\n",
       "      <th></th>\n",
       "      <th>Unnamed: 0</th>\n",
       "      <th>dim_claim_id</th>\n",
       "      <th>dim_pa_id</th>\n",
       "      <th>dim_date_id</th>\n",
       "      <th>bin</th>\n",
       "      <th>reject_code</th>\n",
       "      <th>pharmacy_claim_approved</th>\n",
       "      <th>correct_diagnosis</th>\n",
       "      <th>tried_and_failed</th>\n",
       "      <th>contraindication</th>\n",
       "      <th>pa_approved</th>\n",
       "      <th>A</th>\n",
       "      <th>B</th>\n",
       "      <th>C</th>\n",
       "    </tr>\n",
       "  </thead>\n",
       "  <tbody>\n",
       "    <tr>\n",
       "      <th>0</th>\n",
       "      <td>77</td>\n",
       "      <td>78</td>\n",
       "      <td>33.0</td>\n",
       "      <td>1</td>\n",
       "      <td>417380</td>\n",
       "      <td>75.0</td>\n",
       "      <td>0</td>\n",
       "      <td>1.0</td>\n",
       "      <td>1.0</td>\n",
       "      <td>1.0</td>\n",
       "      <td>1.0</td>\n",
       "      <td>1</td>\n",
       "      <td>0</td>\n",
       "      <td>0</td>\n",
       "    </tr>\n",
       "    <tr>\n",
       "      <th>1</th>\n",
       "      <td>310</td>\n",
       "      <td>311</td>\n",
       "      <td>131.0</td>\n",
       "      <td>2</td>\n",
       "      <td>417380</td>\n",
       "      <td>75.0</td>\n",
       "      <td>0</td>\n",
       "      <td>1.0</td>\n",
       "      <td>1.0</td>\n",
       "      <td>1.0</td>\n",
       "      <td>1.0</td>\n",
       "      <td>1</td>\n",
       "      <td>0</td>\n",
       "      <td>0</td>\n",
       "    </tr>\n",
       "    <tr>\n",
       "      <th>2</th>\n",
       "      <td>364</td>\n",
       "      <td>365</td>\n",
       "      <td>154.0</td>\n",
       "      <td>2</td>\n",
       "      <td>417380</td>\n",
       "      <td>75.0</td>\n",
       "      <td>0</td>\n",
       "      <td>1.0</td>\n",
       "      <td>1.0</td>\n",
       "      <td>1.0</td>\n",
       "      <td>1.0</td>\n",
       "      <td>1</td>\n",
       "      <td>0</td>\n",
       "      <td>0</td>\n",
       "    </tr>\n",
       "    <tr>\n",
       "      <th>3</th>\n",
       "      <td>410</td>\n",
       "      <td>411</td>\n",
       "      <td>175.0</td>\n",
       "      <td>2</td>\n",
       "      <td>417380</td>\n",
       "      <td>75.0</td>\n",
       "      <td>0</td>\n",
       "      <td>1.0</td>\n",
       "      <td>1.0</td>\n",
       "      <td>1.0</td>\n",
       "      <td>1.0</td>\n",
       "      <td>1</td>\n",
       "      <td>0</td>\n",
       "      <td>0</td>\n",
       "    </tr>\n",
       "    <tr>\n",
       "      <th>4</th>\n",
       "      <td>494</td>\n",
       "      <td>495</td>\n",
       "      <td>200.0</td>\n",
       "      <td>2</td>\n",
       "      <td>417380</td>\n",
       "      <td>75.0</td>\n",
       "      <td>0</td>\n",
       "      <td>1.0</td>\n",
       "      <td>1.0</td>\n",
       "      <td>1.0</td>\n",
       "      <td>1.0</td>\n",
       "      <td>1</td>\n",
       "      <td>0</td>\n",
       "      <td>0</td>\n",
       "    </tr>\n",
       "  </tbody>\n",
       "</table>\n",
       "</div>"
      ],
      "text/plain": [
       "   Unnamed: 0  dim_claim_id  dim_pa_id  dim_date_id     bin  reject_code  \\\n",
       "0          77            78       33.0            1  417380         75.0   \n",
       "1         310           311      131.0            2  417380         75.0   \n",
       "2         364           365      154.0            2  417380         75.0   \n",
       "3         410           411      175.0            2  417380         75.0   \n",
       "4         494           495      200.0            2  417380         75.0   \n",
       "\n",
       "   pharmacy_claim_approved  correct_diagnosis  tried_and_failed  \\\n",
       "0                        0                1.0               1.0   \n",
       "1                        0                1.0               1.0   \n",
       "2                        0                1.0               1.0   \n",
       "3                        0                1.0               1.0   \n",
       "4                        0                1.0               1.0   \n",
       "\n",
       "   contraindication  pa_approved  A  B  C  \n",
       "0               1.0          1.0  1  0  0  \n",
       "1               1.0          1.0  1  0  0  \n",
       "2               1.0          1.0  1  0  0  \n",
       "3               1.0          1.0  1  0  0  \n",
       "4               1.0          1.0  1  0  0  "
      ]
     },
     "execution_count": 20,
     "metadata": {},
     "output_type": "execute_result"
    }
   ],
   "source": [
    "cmm_417380_75_1_1_1_1_A_approved.head()"
   ]
  },
  {
   "cell_type": "code",
   "execution_count": 21,
   "metadata": {},
   "outputs": [
    {
     "data": {
      "text/html": [
       "<div>\n",
       "<style scoped>\n",
       "    .dataframe tbody tr th:only-of-type {\n",
       "        vertical-align: middle;\n",
       "    }\n",
       "\n",
       "    .dataframe tbody tr th {\n",
       "        vertical-align: top;\n",
       "    }\n",
       "\n",
       "    .dataframe thead th {\n",
       "        text-align: right;\n",
       "    }\n",
       "</style>\n",
       "<table border=\"1\" class=\"dataframe\">\n",
       "  <thead>\n",
       "    <tr style=\"text-align: right;\">\n",
       "      <th></th>\n",
       "      <th>Unnamed: 0</th>\n",
       "      <th>dim_claim_id</th>\n",
       "      <th>dim_pa_id</th>\n",
       "      <th>dim_date_id</th>\n",
       "      <th>bin</th>\n",
       "      <th>reject_code</th>\n",
       "      <th>pharmacy_claim_approved</th>\n",
       "      <th>correct_diagnosis</th>\n",
       "      <th>tried_and_failed</th>\n",
       "      <th>contraindication</th>\n",
       "      <th>pa_approved</th>\n",
       "      <th>A</th>\n",
       "      <th>B</th>\n",
       "      <th>C</th>\n",
       "    </tr>\n",
       "  </thead>\n",
       "  <tbody>\n",
       "    <tr>\n",
       "      <th>9</th>\n",
       "      <td>1544</td>\n",
       "      <td>1545</td>\n",
       "      <td>638.0</td>\n",
       "      <td>3</td>\n",
       "      <td>417380</td>\n",
       "      <td>75.0</td>\n",
       "      <td>0</td>\n",
       "      <td>1.0</td>\n",
       "      <td>1.0</td>\n",
       "      <td>1.0</td>\n",
       "      <td>0.0</td>\n",
       "      <td>1</td>\n",
       "      <td>0</td>\n",
       "      <td>0</td>\n",
       "    </tr>\n",
       "    <tr>\n",
       "      <th>16</th>\n",
       "      <td>1834</td>\n",
       "      <td>1835</td>\n",
       "      <td>766.0</td>\n",
       "      <td>3</td>\n",
       "      <td>417380</td>\n",
       "      <td>75.0</td>\n",
       "      <td>0</td>\n",
       "      <td>1.0</td>\n",
       "      <td>1.0</td>\n",
       "      <td>1.0</td>\n",
       "      <td>0.0</td>\n",
       "      <td>1</td>\n",
       "      <td>0</td>\n",
       "      <td>0</td>\n",
       "    </tr>\n",
       "    <tr>\n",
       "      <th>145</th>\n",
       "      <td>30273</td>\n",
       "      <td>30274</td>\n",
       "      <td>12562.0</td>\n",
       "      <td>29</td>\n",
       "      <td>417380</td>\n",
       "      <td>75.0</td>\n",
       "      <td>0</td>\n",
       "      <td>1.0</td>\n",
       "      <td>1.0</td>\n",
       "      <td>1.0</td>\n",
       "      <td>0.0</td>\n",
       "      <td>1</td>\n",
       "      <td>0</td>\n",
       "      <td>0</td>\n",
       "    </tr>\n",
       "    <tr>\n",
       "      <th>161</th>\n",
       "      <td>33676</td>\n",
       "      <td>33677</td>\n",
       "      <td>13996.0</td>\n",
       "      <td>32</td>\n",
       "      <td>417380</td>\n",
       "      <td>75.0</td>\n",
       "      <td>0</td>\n",
       "      <td>1.0</td>\n",
       "      <td>1.0</td>\n",
       "      <td>1.0</td>\n",
       "      <td>0.0</td>\n",
       "      <td>1</td>\n",
       "      <td>0</td>\n",
       "      <td>0</td>\n",
       "    </tr>\n",
       "    <tr>\n",
       "      <th>194</th>\n",
       "      <td>42452</td>\n",
       "      <td>42453</td>\n",
       "      <td>17563.0</td>\n",
       "      <td>40</td>\n",
       "      <td>417380</td>\n",
       "      <td>75.0</td>\n",
       "      <td>0</td>\n",
       "      <td>1.0</td>\n",
       "      <td>1.0</td>\n",
       "      <td>1.0</td>\n",
       "      <td>0.0</td>\n",
       "      <td>1</td>\n",
       "      <td>0</td>\n",
       "      <td>0</td>\n",
       "    </tr>\n",
       "  </tbody>\n",
       "</table>\n",
       "</div>"
      ],
      "text/plain": [
       "     Unnamed: 0  dim_claim_id  dim_pa_id  dim_date_id     bin  reject_code  \\\n",
       "9          1544          1545      638.0            3  417380         75.0   \n",
       "16         1834          1835      766.0            3  417380         75.0   \n",
       "145       30273         30274    12562.0           29  417380         75.0   \n",
       "161       33676         33677    13996.0           32  417380         75.0   \n",
       "194       42452         42453    17563.0           40  417380         75.0   \n",
       "\n",
       "     pharmacy_claim_approved  correct_diagnosis  tried_and_failed  \\\n",
       "9                          0                1.0               1.0   \n",
       "16                         0                1.0               1.0   \n",
       "145                        0                1.0               1.0   \n",
       "161                        0                1.0               1.0   \n",
       "194                        0                1.0               1.0   \n",
       "\n",
       "     contraindication  pa_approved  A  B  C  \n",
       "9                 1.0          0.0  1  0  0  \n",
       "16                1.0          0.0  1  0  0  \n",
       "145               1.0          0.0  1  0  0  \n",
       "161               1.0          0.0  1  0  0  \n",
       "194               1.0          0.0  1  0  0  "
      ]
     },
     "execution_count": 21,
     "metadata": {},
     "output_type": "execute_result"
    }
   ],
   "source": [
    "cmm_417380_75_1_1_1_1_A_not_approved.head()"
   ]
  },
  {
   "cell_type": "markdown",
   "metadata": {},
   "source": []
  }
 ],
 "metadata": {
  "kernelspec": {
   "display_name": "Python 3",
   "language": "python",
   "name": "python3"
  },
  "language_info": {
   "codemirror_mode": {
    "name": "ipython",
    "version": 3
   },
   "file_extension": ".py",
   "mimetype": "text/x-python",
   "name": "python",
   "nbconvert_exporter": "python",
   "pygments_lexer": "ipython3",
   "version": "3.8.8"
  }
 },
 "nbformat": 4,
 "nbformat_minor": 4
}
